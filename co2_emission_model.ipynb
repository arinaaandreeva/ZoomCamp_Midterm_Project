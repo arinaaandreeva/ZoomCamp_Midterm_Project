{
  "cells": [
    {
      "cell_type": "code",
      "execution_count": null,
      "id": "daa3cbef",
      "metadata": {
        "id": "daa3cbef"
      },
      "outputs": [],
      "source": [
        "!pip install -r https://raw.githubusercontent.com/bentoml/BentoML/main/examples/quickstart/requirements.txt"
      ]
    },
    {
      "cell_type": "code",
      "source": [
        "import pandas as pd\n",
        "import numpy as np"
      ],
      "metadata": {
        "id": "AOUKwXeKeV3o"
      },
      "id": "AOUKwXeKeV3o",
      "execution_count": null,
      "outputs": []
    },
    {
      "cell_type": "code",
      "source": [
        "df1 = pd.read_csv('https://raw.githubusercontent.com/arinaaandreeva/Datasets/main/CO2_emission_2008_13.csv')\n",
        "df2 = pd.read_csv('https://raw.githubusercontent.com/arinaaandreeva/Datasets/main/CO2_emission_2014.csv')\n",
        "df = pd.concat([df1, df2], axis=0)\n",
        "print(df1.shape, df2.shape, df.shape)"
      ],
      "metadata": {
        "id": "58lRPyg4eX74"
      },
      "id": "58lRPyg4eX74",
      "execution_count": null,
      "outputs": []
    },
    {
      "cell_type": "code",
      "source": [
        "df.columns = df.columns.str.lower().str.replace(' ', '_')"
      ],
      "metadata": {
        "id": "jrfW-qyyeYum"
      },
      "id": "jrfW-qyyeYum",
      "execution_count": null,
      "outputs": []
    },
    {
      "cell_type": "code",
      "source": [
        "strings = list(df.dtypes[df.dtypes == 'object'].index)\n",
        "strings = strings[1:len(strings)]\n",
        "strings"
      ],
      "metadata": {
        "id": "QFf-8L9yebSA"
      },
      "id": "QFf-8L9yebSA",
      "execution_count": null,
      "outputs": []
    },
    {
      "cell_type": "code",
      "source": [
        "for i in strings:\n",
        "  df[i]=df[i].apply(lambda x:x.replace('..',''))\n",
        "  df[i]=df[i].apply(lambda x:x.replace(',',''))\n",
        "  df[i]=df[i].apply(pd.to_numeric)\n",
        "\n",
        "df['year']=df['year'].astype(object)\n",
        "df = df.fillna(0)"
      ],
      "metadata": {
        "id": "n70iSWBoee79"
      },
      "id": "n70iSWBoee79",
      "execution_count": null,
      "outputs": []
    },
    {
      "cell_type": "code",
      "source": [
        "from sklearn.model_selection import train_test_split\n",
        "from sklearn.preprocessing import OneHotEncoder\n",
        "from sklearn.metrics import mean_squared_error as MSE\n",
        "from sklearn.metrics import r2_score"
      ],
      "metadata": {
        "id": "rwNbHi0Xee1K"
      },
      "id": "rwNbHi0Xee1K",
      "execution_count": null,
      "outputs": []
    },
    {
      "cell_type": "code",
      "source": [
        "ohe = OneHotEncoder()\n",
        "transformed = ohe.fit_transform(df[['country', 'year']])\n",
        "print(transformed.toarray())"
      ],
      "metadata": {
        "id": "6fBpr-kYemib"
      },
      "id": "6fBpr-kYemib",
      "execution_count": null,
      "outputs": []
    },
    {
      "cell_type": "code",
      "source": [
        "df_full_train, df_test = train_test_split(df, test_size=0.2, random_state=1)\n",
        "df_train, df_val = train_test_split(df_full_train, test_size=0.25, random_state=1)"
      ],
      "metadata": {
        "id": "VOxxYp-4emdr"
      },
      "id": "VOxxYp-4emdr",
      "execution_count": null,
      "outputs": []
    },
    {
      "cell_type": "code",
      "source": [
        "y_train = df_train.co2_emission_metrics_per_capita.values\n",
        "y_val = df_val.co2_emission_metrics_per_capita.values\n",
        "y_test = df_test.co2_emission_metrics_per_capita.values\n",
        "\n",
        "del df_train['co2_emission_metrics_per_capita']\n",
        "del df_val['co2_emission_metrics_per_capita']\n",
        "del df_test['co2_emission_metrics_per_capita']"
      ],
      "metadata": {
        "id": "BUL-PYdlemZ8"
      },
      "id": "BUL-PYdlemZ8",
      "execution_count": null,
      "outputs": []
    },
    {
      "cell_type": "code",
      "source": [
        "from sklearn.feature_extraction import DictVectorizer\n",
        "dv = DictVectorizer(sparse=False)\n",
        "\n",
        "X_train = df_train.reset_index(drop=True)\n",
        "X_train_dict = X_train.to_dict(orient='records')\n",
        "X_train = dv.fit_transform(X_train_dict)\n",
        "\n",
        "X_val = df_val.reset_index(drop=True)\n",
        "X_val_dict = X_val.to_dict(orient='records')\n",
        "X_val = dv.fit_transform(X_val_dict)\n",
        "\n",
        "X_test = df_test.reset_index(drop=True)\n",
        "X_test_dict = X_test.to_dict(orient='records')\n",
        "X_test = dv.fit_transform(X_test_dict)"
      ],
      "metadata": {
        "id": "TRIMSa97esBS"
      },
      "id": "TRIMSa97esBS",
      "execution_count": null,
      "outputs": []
    },
    {
      "cell_type": "code",
      "source": [
        "y_full_train = df_full_train['co2_emission_metrics_per_capita'].astype(int)\n",
        "del df_full_train['co2_emission_metrics_per_capita']\n",
        "dicts_full_train = df_full_train.to_dict(orient='records')\n",
        "\n",
        "dv = DictVectorizer(sparse=False)\n",
        "X_full_train = dv.fit_transform(dicts_full_train)\n",
        "\n",
        "dicts_test = df_test.to_dict(orient='records')\n",
        "X_test = dv.transform(dicts_test)"
      ],
      "metadata": {
        "id": "p24Nt7xcer8z"
      },
      "id": "p24Nt7xcer8z",
      "execution_count": null,
      "outputs": []
    },
    {
      "cell_type": "code",
      "source": [
        "import xgboost as xgb\n",
        "from xgboost import XGBClassifier\n",
        "from xgboost.sklearn import XGBClassifier"
      ],
      "metadata": {
        "id": "FUJULKIPer6A"
      },
      "id": "FUJULKIPer6A",
      "execution_count": null,
      "outputs": []
    },
    {
      "cell_type": "code",
      "source": [
        "dfulltrain = xgb.DMatrix(X_full_train, label=y_full_train,\n",
        "                    feature_names=dv.get_feature_names())\n",
        "\n",
        "dtest = xgb.DMatrix(X_test, feature_names=dv.get_feature_names())"
      ],
      "metadata": {
        "id": "xPZMlvVEezAp"
      },
      "id": "xPZMlvVEezAp",
      "execution_count": null,
      "outputs": []
    },
    {
      "cell_type": "markdown",
      "id": "b66e31f7",
      "metadata": {
        "id": "b66e31f7"
      },
      "source": [
        "##  Model Training"
      ]
    },
    {
      "cell_type": "code",
      "execution_count": null,
      "id": "eb526488",
      "metadata": {
        "id": "eb526488"
      },
      "outputs": [],
      "source": [
        "\n",
        "model = xgb.XGBRegressor(learning_rate = 0.5, n_estimators = 200, seed = 25)\n",
        " \n",
        "model.fit(X_train, y_train)\n"
      ]
    },
    {
      "cell_type": "markdown",
      "id": "3c114c75",
      "metadata": {
        "id": "3c114c75"
      },
      "source": [
        "Save the `clf` model instance to BentoML local model store:"
      ]
    },
    {
      "cell_type": "code",
      "execution_count": null,
      "id": "e94ed449",
      "metadata": {
        "id": "e94ed449"
      },
      "outputs": [],
      "source": [
        "import bentoml\n",
        "\n",
        "bentoml.sklearn.save_model(\"co2_emission_model\", model)"
      ]
    },
    {
      "cell_type": "markdown",
      "id": "d613e57e",
      "metadata": {
        "id": "d613e57e"
      },
      "source": [
        "Models saved can be accessed via `bentoml models` CLI command:"
      ]
    },
    {
      "cell_type": "code",
      "execution_count": null,
      "id": "7d771f04",
      "metadata": {
        "id": "7d771f04"
      },
      "outputs": [],
      "source": [
        "!bentoml models get co2_emission_model:latest"
      ]
    },
    {
      "cell_type": "code",
      "execution_count": null,
      "id": "5a876780",
      "metadata": {
        "id": "5a876780"
      },
      "outputs": [],
      "source": [
        "!bentoml models list"
      ]
    },
    {
      "cell_type": "markdown",
      "id": "672721c4",
      "metadata": {
        "id": "672721c4"
      },
      "source": [
        "To verify that the saved model can be loaded correctly:"
      ]
    },
    {
      "cell_type": "code",
      "execution_count": null,
      "id": "28ac794b",
      "metadata": {
        "id": "28ac794b"
      },
      "outputs": [],
      "source": [
        "loaded_model = bentoml.sklearn.load_model(\"co2_emission_model:latest\")\n",
        "\n",
        "loaded_model.predict(X_test)"
      ]
    },
    {
      "cell_type": "code",
      "execution_count": null,
      "id": "83205567",
      "metadata": {
        "id": "83205567"
      },
      "outputs": [],
      "source": [
        "# Create a Runner instance:\n",
        "model_runner = bentoml.sklearn.get(\"co2_emission_model:latest\").to_runner()\n",
        "\n",
        "# Runner#init_local initializes the model in current process, this is meant for development and testing only:\n",
        "model_runner.init_local()\n",
        "\n",
        "# This should yield the same result as the loaded model:\n",
        "model_runner.predict.run(X_test)"
      ]
    },
    {
      "cell_type": "markdown",
      "id": "3fa68254",
      "metadata": {
        "id": "3fa68254"
      },
      "source": [
        "## Serving the model\n"
      ]
    },
    {
      "cell_type": "code",
      "execution_count": null,
      "id": "127aa3fd",
      "metadata": {
        "id": "127aa3fd"
      },
      "outputs": [],
      "source": [
        "%%writefile service.py\n",
        "import numpy as np\n",
        "import bentoml\n",
        "from bentoml.io import NumpyNdarray\n",
        "\n",
        "model_runner = bentoml.sklearn.get(\"co2_emission_model:latest\").to_runner()\n",
        "\n",
        "svc = bentoml.Service(\"co2_emission_classifier\", runners=[model_runner])\n",
        "\n",
        "@svc.api(input=NumpyNdarray(), output=NumpyNdarray())\n",
        "def classify(input_series: np.ndarray) -> np.ndarray:\n",
        "    return model_runner.predict.run(input_series)\n"
      ]
    },
    {
      "cell_type": "code",
      "execution_count": null,
      "id": "7523b58f",
      "metadata": {
        "id": "7523b58f"
      },
      "outputs": [],
      "source": [
        "!bentoml serve service.py:svc --reload"
      ]
    },
    {
      "cell_type": "markdown",
      "id": "4f1a8bcc",
      "metadata": {
        "id": "4f1a8bcc"
      },
      "source": [
        "### Build Bento for deployment"
      ]
    },
    {
      "cell_type": "code",
      "execution_count": null,
      "id": "6458e417",
      "metadata": {
        "id": "6458e417"
      },
      "outputs": [],
      "source": [
        "%%writefile bentofile.yaml\n",
        "service: \"service.py:svc\"\n",
        "labels:\n",
        "  owner: Andreeva_Arina\n",
        "  project: Prediction of CO2 emission\n",
        "include:\n",
        "- \"*.py\"\n",
        "python:\n",
        "  packages:\n",
        "    - scikit-learn\n",
        "    - pandas"
      ]
    },
    {
      "cell_type": "code",
      "source": [
        "!pip install pydantic"
      ],
      "metadata": {
        "id": "tFN1JF22sHfo"
      },
      "id": "tFN1JF22sHfo",
      "execution_count": null,
      "outputs": []
    },
    {
      "cell_type": "code",
      "source": [
        "from pydantic import BaseModel"
      ],
      "metadata": {
        "id": "4EmtdlDksKk-"
      },
      "id": "4EmtdlDksKk-",
      "execution_count": null,
      "outputs": []
    },
    {
      "cell_type": "code",
      "source": [
        "# Create pydantic base class to create data schema for validation\n",
        "class CreditApplication(BaseModel):\n",
        "    Country : object\n",
        "    Year : object\n",
        "    GDP_Growth : float\n",
        "    CO2_Emission_Metrics_per_capita : float\n",
        "    Electricity_access : float\n",
        "    Urban_population : float\n",
        "    Population_growth : float\n",
        "    Urban_population_growth_annual : float\n",
        "    Live_stock_production : float\n",
        "    Forest_area : float\n",
        "    Renewable_energy_use : float\n",
        "    Energy_use_kg_of_oil_per_capita : float\n",
        "    Population_total : float"
      ],
      "metadata": {
        "id": "hCzVn4PaqLBl"
      },
      "id": "hCzVn4PaqLBl",
      "execution_count": null,
      "outputs": []
    },
    {
      "cell_type": "code",
      "source": [
        "from bentoml.io import JSON"
      ],
      "metadata": {
        "id": "OXhpm1cRuOk4"
      },
      "id": "OXhpm1cRuOk4",
      "execution_count": null,
      "outputs": []
    },
    {
      "cell_type": "code",
      "source": [
        "'''model_runner = bentoml.sklearn.get(\"co2_emission_model:latest\").to_runner()\n",
        "\n",
        "svc = bentoml.Service(\"co2_emission_classifier\", runners=[model_runner])\n",
        "\n",
        "@svc.api(input=JSON(pydantic_model=CreditApplication), output=JSON()) # decorate endpoint as in json format for input and output\n",
        "def classify(credit_application):\n",
        "    # transform pydantic class to dict to extract key-value pairs \n",
        "    application = credit_application.dict()\n",
        "    # transform data from client using dictvectorizer\n",
        "    vector = dv.transform(application)\n",
        "    # make predictions using 'runner.predict.run(input)' instead of 'model.predict'\n",
        "    prediction = model_runner.predict.run(vector) '''"
      ],
      "metadata": {
        "id": "HaoA0x1nrqXv"
      },
      "id": "HaoA0x1nrqXv",
      "execution_count": null,
      "outputs": []
    },
    {
      "cell_type": "code",
      "execution_count": null,
      "id": "b7cab8b2",
      "metadata": {
        "id": "b7cab8b2"
      },
      "outputs": [],
      "source": [
        "!bentoml build"
      ]
    },
    {
      "cell_type": "markdown",
      "id": "81ed8b84",
      "metadata": {
        "id": "81ed8b84"
      },
      "source": [
        "## Containerize and Deployment"
      ]
    },
    {
      "cell_type": "code",
      "source": [
        "!sudo apt install apt-transport-https ca-certificates curl software-properties-common -qq"
      ],
      "metadata": {
        "id": "fXGG1IsmlLTx"
      },
      "id": "fXGG1IsmlLTx",
      "execution_count": null,
      "outputs": []
    },
    {
      "cell_type": "code",
      "source": [
        "!curl -fsSL https://download.docker.com/linux/ubuntu/gpg | sudo apt-key add -"
      ],
      "metadata": {
        "id": "xTm76V68mnrw"
      },
      "id": "xTm76V68mnrw",
      "execution_count": null,
      "outputs": []
    },
    {
      "cell_type": "code",
      "source": [
        "!sudo add-apt-repository \"deb [arch=amd64] https://download.docker.com/linux/ubuntu bionic stable\""
      ],
      "metadata": {
        "id": "VFErjAVXmqRO"
      },
      "id": "VFErjAVXmqRO",
      "execution_count": null,
      "outputs": []
    },
    {
      "cell_type": "code",
      "source": [
        "!sudo apt install docker-ce"
      ],
      "metadata": {
        "id": "-9tVt1WamwdN"
      },
      "id": "-9tVt1WamwdN",
      "execution_count": null,
      "outputs": []
    },
    {
      "cell_type": "code",
      "source": [
        "!docker"
      ],
      "metadata": {
        "id": "QET_THawo2y2"
      },
      "id": "QET_THawo2y2",
      "execution_count": null,
      "outputs": []
    },
    {
      "cell_type": "code",
      "source": [
        "!bentoml containerize co2_emission_model:latest"
      ],
      "metadata": {
        "id": "qPlk4JZ4m9AS"
      },
      "id": "qPlk4JZ4m9AS",
      "execution_count": null,
      "outputs": []
    },
    {
      "cell_type": "code",
      "source": [
        "!docker run -p 3000:3000 co2_emission_model:3yult2takw6cwasc"
      ],
      "metadata": {
        "id": "lzcrHDpinCrk"
      },
      "id": "lzcrHDpinCrk",
      "execution_count": null,
      "outputs": []
    }
  ],
  "metadata": {
    "kernelspec": {
      "display_name": "Python 3 (ipykernel)",
      "language": "python",
      "name": "python3"
    },
    "language_info": {
      "codemirror_mode": {
        "name": "ipython",
        "version": 3
      },
      "file_extension": ".py",
      "mimetype": "text/x-python",
      "name": "python",
      "nbconvert_exporter": "python",
      "pygments_lexer": "ipython3",
      "version": "3.8.12"
    },
    "colab": {
      "provenance": []
    }
  },
  "nbformat": 4,
  "nbformat_minor": 5
}