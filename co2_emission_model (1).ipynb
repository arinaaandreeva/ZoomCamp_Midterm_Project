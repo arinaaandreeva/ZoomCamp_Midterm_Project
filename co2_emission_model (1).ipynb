{
  "cells": [
    {
      "cell_type": "code",
      "execution_count": 1,
      "id": "daa3cbef",
      "metadata": {
        "id": "daa3cbef",
        "colab": {
          "base_uri": "https://localhost:8080/"
        },
        "outputId": "033224fb-134e-4f47-ae92-8c3225245dbb"
      },
      "outputs": [
        {
          "output_type": "stream",
          "name": "stdout",
          "text": [
            "Looking in indexes: https://pypi.org/simple, https://us-python.pkg.dev/colab-wheels/public/simple/\n",
            "Requirement already satisfied: scikit-learn in /usr/local/lib/python3.7/dist-packages (from -r https://raw.githubusercontent.com/bentoml/BentoML/main/examples/quickstart/requirements.txt (line 1)) (1.0.2)\n",
            "Requirement already satisfied: pandas in /usr/local/lib/python3.7/dist-packages (from -r https://raw.githubusercontent.com/bentoml/BentoML/main/examples/quickstart/requirements.txt (line 2)) (1.3.5)\n",
            "Collecting bentoml>=1.0.0\n",
            "  Downloading bentoml-1.0.10-py3-none-any.whl (873 kB)\n",
            "\u001b[K     |████████████████████████████████| 873 kB 5.0 MB/s \n",
            "\u001b[?25hCollecting fs\n",
            "  Downloading fs-2.4.16-py2.py3-none-any.whl (135 kB)\n",
            "\u001b[K     |████████████████████████████████| 135 kB 35.5 MB/s \n",
            "\u001b[?25hCollecting opentelemetry-util-http==0.34b0\n",
            "  Downloading opentelemetry_util_http-0.34b0-py3-none-any.whl (6.5 kB)\n",
            "Collecting backports.cached-property\n",
            "  Downloading backports.cached_property-1.0.2-py3-none-any.whl (6.1 kB)\n",
            "Collecting deepmerge\n",
            "  Downloading deepmerge-1.1.0-py3-none-any.whl (8.5 kB)\n",
            "Collecting opentelemetry-instrumentation-aiohttp-client==0.34b0\n",
            "  Downloading opentelemetry_instrumentation_aiohttp_client-0.34b0-py3-none-any.whl (11 kB)\n",
            "Requirement already satisfied: numpy in /usr/local/lib/python3.7/dist-packages (from bentoml>=1.0.0->-r https://raw.githubusercontent.com/bentoml/BentoML/main/examples/quickstart/requirements.txt (line 3)) (1.21.6)\n",
            "Collecting cattrs>=22.1.0\n",
            "  Downloading cattrs-22.2.0-py3-none-any.whl (35 kB)\n",
            "Collecting pip-tools>=6.6.2\n",
            "  Downloading pip_tools-6.9.0-py3-none-any.whl (52 kB)\n",
            "\u001b[K     |████████████████████████████████| 52 kB 545 kB/s \n",
            "\u001b[?25hCollecting opentelemetry-instrumentation==0.34b0\n",
            "  Downloading opentelemetry_instrumentation-0.34b0-py3-none-any.whl (24 kB)\n",
            "Requirement already satisfied: aiohttp in /usr/local/lib/python3.7/dist-packages (from bentoml>=1.0.0->-r https://raw.githubusercontent.com/bentoml/BentoML/main/examples/quickstart/requirements.txt (line 3)) (3.8.3)\n",
            "Requirement already satisfied: prometheus-client>=0.10.0 in /usr/local/lib/python3.7/dist-packages (from bentoml>=1.0.0->-r https://raw.githubusercontent.com/bentoml/BentoML/main/examples/quickstart/requirements.txt (line 3)) (0.15.0)\n",
            "Requirement already satisfied: python-dateutil in /usr/local/lib/python3.7/dist-packages (from bentoml>=1.0.0->-r https://raw.githubusercontent.com/bentoml/BentoML/main/examples/quickstart/requirements.txt (line 3)) (2.8.2)\n",
            "Collecting starlette\n",
            "  Downloading starlette-0.21.0-py3-none-any.whl (64 kB)\n",
            "\u001b[K     |████████████████████████████████| 64 kB 1.3 MB/s \n",
            "\u001b[?25hCollecting uvicorn\n",
            "  Downloading uvicorn-0.19.0-py3-none-any.whl (56 kB)\n",
            "\u001b[K     |████████████████████████████████| 56 kB 3.2 MB/s \n",
            "\u001b[?25hCollecting opentelemetry-semantic-conventions==0.34b0\n",
            "  Downloading opentelemetry_semantic_conventions-0.34b0-py3-none-any.whl (25 kB)\n",
            "Requirement already satisfied: attrs>=21.1.0 in /usr/local/lib/python3.7/dist-packages (from bentoml>=1.0.0->-r https://raw.githubusercontent.com/bentoml/BentoML/main/examples/quickstart/requirements.txt (line 3)) (22.1.0)\n",
            "Collecting opentelemetry-api==1.13.0\n",
            "  Downloading opentelemetry_api-1.13.0-py3-none-any.whl (50 kB)\n",
            "\u001b[K     |████████████████████████████████| 50 kB 4.8 MB/s \n",
            "\u001b[?25hRequirement already satisfied: click>=7.0 in /usr/local/lib/python3.7/dist-packages (from bentoml>=1.0.0->-r https://raw.githubusercontent.com/bentoml/BentoML/main/examples/quickstart/requirements.txt (line 3)) (7.1.2)\n",
            "Collecting rich>=11.2.0\n",
            "  Downloading rich-12.6.0-py3-none-any.whl (237 kB)\n",
            "\u001b[K     |████████████████████████████████| 237 kB 25.6 MB/s \n",
            "\u001b[?25hCollecting opentelemetry-instrumentation-asgi==0.34b0\n",
            "  Downloading opentelemetry_instrumentation_asgi-0.34b0-py3-none-any.whl (12 kB)\n",
            "Requirement already satisfied: PyYAML>=5.0 in /usr/local/lib/python3.7/dist-packages (from bentoml>=1.0.0->-r https://raw.githubusercontent.com/bentoml/BentoML/main/examples/quickstart/requirements.txt (line 3)) (6.0)\n",
            "Collecting backports.shutil-copytree\n",
            "  Downloading backports.shutil_copytree-0.0.0.2.tar.gz (3.1 kB)\n",
            "Collecting pip-requirements-parser>=31.2.0\n",
            "  Downloading pip_requirements_parser-31.2.0-py3-none-any.whl (33 kB)\n",
            "Collecting pathspec\n",
            "  Downloading pathspec-0.10.1-py3-none-any.whl (27 kB)\n",
            "Requirement already satisfied: psutil in /usr/local/lib/python3.7/dist-packages (from bentoml>=1.0.0->-r https://raw.githubusercontent.com/bentoml/BentoML/main/examples/quickstart/requirements.txt (line 3)) (5.4.8)\n",
            "Requirement already satisfied: importlib-metadata in /usr/local/lib/python3.7/dist-packages (from bentoml>=1.0.0->-r https://raw.githubusercontent.com/bentoml/BentoML/main/examples/quickstart/requirements.txt (line 3)) (4.13.0)\n",
            "Collecting opentelemetry-sdk==1.13.0\n",
            "  Downloading opentelemetry_sdk-1.13.0-py3-none-any.whl (81 kB)\n",
            "\u001b[K     |████████████████████████████████| 81 kB 7.8 MB/s \n",
            "\u001b[?25hCollecting circus!=0.17.2,>=0.17.0\n",
            "  Downloading circus-0.17.1-py3-none-any.whl (182 kB)\n",
            "\u001b[K     |████████████████████████████████| 182 kB 9.7 MB/s \n",
            "\u001b[?25hCollecting Jinja2>=3.0.1\n",
            "  Downloading Jinja2-3.1.2-py3-none-any.whl (133 kB)\n",
            "\u001b[K     |████████████████████████████████| 133 kB 43.2 MB/s \n",
            "\u001b[?25hRequirement already satisfied: requests in /usr/local/lib/python3.7/dist-packages (from bentoml>=1.0.0->-r https://raw.githubusercontent.com/bentoml/BentoML/main/examples/quickstart/requirements.txt (line 3)) (2.23.0)\n",
            "Collecting simple-di>=0.1.4\n",
            "  Downloading simple_di-0.1.5-py3-none-any.whl (9.8 kB)\n",
            "Requirement already satisfied: packaging>=20.0 in /usr/local/lib/python3.7/dist-packages (from bentoml>=1.0.0->-r https://raw.githubusercontent.com/bentoml/BentoML/main/examples/quickstart/requirements.txt (line 3)) (21.3)\n",
            "Collecting python-json-logger\n",
            "  Downloading python_json_logger-2.0.4-py3-none-any.whl (7.8 kB)\n",
            "Collecting schema\n",
            "  Downloading schema-0.7.5-py2.py3-none-any.whl (17 kB)\n",
            "Collecting pynvml<12\n",
            "  Downloading pynvml-11.4.1-py3-none-any.whl (46 kB)\n",
            "\u001b[K     |████████████████████████████████| 46 kB 3.7 MB/s \n",
            "\u001b[?25hCollecting python-multipart\n",
            "  Downloading python-multipart-0.0.5.tar.gz (32 kB)\n",
            "Requirement already satisfied: cloudpickle in /usr/local/lib/python3.7/dist-packages (from bentoml>=1.0.0->-r https://raw.githubusercontent.com/bentoml/BentoML/main/examples/quickstart/requirements.txt (line 3)) (1.5.0)\n",
            "Collecting watchfiles>=0.15.0\n",
            "  Downloading watchfiles-0.18.1-cp37-abi3-manylinux_2_17_x86_64.manylinux2014_x86_64.whl (1.2 MB)\n",
            "\u001b[K     |████████████████████████████████| 1.2 MB 39.5 MB/s \n",
            "\u001b[?25hRequirement already satisfied: setuptools>=16.0 in /usr/local/lib/python3.7/dist-packages (from opentelemetry-api==1.13.0->bentoml>=1.0.0->-r https://raw.githubusercontent.com/bentoml/BentoML/main/examples/quickstart/requirements.txt (line 3)) (57.4.0)\n",
            "Collecting deprecated>=1.2.6\n",
            "  Downloading Deprecated-1.2.13-py2.py3-none-any.whl (9.6 kB)\n",
            "Requirement already satisfied: wrapt<2.0.0,>=1.0.0 in /usr/local/lib/python3.7/dist-packages (from opentelemetry-instrumentation==0.34b0->bentoml>=1.0.0->-r https://raw.githubusercontent.com/bentoml/BentoML/main/examples/quickstart/requirements.txt (line 3)) (1.14.1)\n",
            "Collecting asgiref~=3.0\n",
            "  Downloading asgiref-3.5.2-py3-none-any.whl (22 kB)\n",
            "Requirement already satisfied: typing-extensions>=3.7.4 in /usr/local/lib/python3.7/dist-packages (from opentelemetry-sdk==1.13.0->bentoml>=1.0.0->-r https://raw.githubusercontent.com/bentoml/BentoML/main/examples/quickstart/requirements.txt (line 3)) (4.1.1)\n",
            "Collecting exceptiongroup\n",
            "  Downloading exceptiongroup-1.0.1-py3-none-any.whl (12 kB)\n",
            "Requirement already satisfied: tornado>=5.0.2 in /usr/local/lib/python3.7/dist-packages (from circus!=0.17.2,>=0.17.0->bentoml>=1.0.0->-r https://raw.githubusercontent.com/bentoml/BentoML/main/examples/quickstart/requirements.txt (line 3)) (6.0.4)\n",
            "Requirement already satisfied: pyzmq>=17.0 in /usr/local/lib/python3.7/dist-packages (from circus!=0.17.2,>=0.17.0->bentoml>=1.0.0->-r https://raw.githubusercontent.com/bentoml/BentoML/main/examples/quickstart/requirements.txt (line 3)) (23.2.1)\n",
            "Requirement already satisfied: MarkupSafe>=2.0 in /usr/local/lib/python3.7/dist-packages (from Jinja2>=3.0.1->bentoml>=1.0.0->-r https://raw.githubusercontent.com/bentoml/BentoML/main/examples/quickstart/requirements.txt (line 3)) (2.0.1)\n",
            "Requirement already satisfied: pyparsing!=3.0.5,>=2.0.2 in /usr/local/lib/python3.7/dist-packages (from packaging>=20.0->bentoml>=1.0.0->-r https://raw.githubusercontent.com/bentoml/BentoML/main/examples/quickstart/requirements.txt (line 3)) (3.0.9)\n",
            "Requirement already satisfied: wheel in /usr/local/lib/python3.7/dist-packages (from pip-tools>=6.6.2->bentoml>=1.0.0->-r https://raw.githubusercontent.com/bentoml/BentoML/main/examples/quickstart/requirements.txt (line 3)) (0.38.1)\n",
            "Collecting build\n",
            "  Downloading build-0.9.0-py3-none-any.whl (17 kB)\n",
            "Collecting pip>=21.2\n",
            "  Downloading pip-22.3.1-py3-none-any.whl (2.1 MB)\n",
            "\u001b[K     |████████████████████████████████| 2.1 MB 31.2 MB/s \n",
            "\u001b[?25hRequirement already satisfied: pygments<3.0.0,>=2.6.0 in /usr/local/lib/python3.7/dist-packages (from rich>=11.2.0->bentoml>=1.0.0->-r https://raw.githubusercontent.com/bentoml/BentoML/main/examples/quickstart/requirements.txt (line 3)) (2.6.1)\n",
            "Collecting commonmark<0.10.0,>=0.9.0\n",
            "  Downloading commonmark-0.9.1-py2.py3-none-any.whl (51 kB)\n",
            "\u001b[K     |████████████████████████████████| 51 kB 5.8 MB/s \n",
            "\u001b[?25hCollecting anyio>=3.0.0\n",
            "  Downloading anyio-3.6.2-py3-none-any.whl (80 kB)\n",
            "\u001b[K     |████████████████████████████████| 80 kB 6.6 MB/s \n",
            "\u001b[?25hCollecting sniffio>=1.1\n",
            "  Downloading sniffio-1.3.0-py3-none-any.whl (10 kB)\n",
            "Requirement already satisfied: idna>=2.8 in /usr/local/lib/python3.7/dist-packages (from anyio>=3.0.0->watchfiles>=0.15.0->bentoml>=1.0.0->-r https://raw.githubusercontent.com/bentoml/BentoML/main/examples/quickstart/requirements.txt (line 3)) (2.10)\n",
            "Requirement already satisfied: scipy>=1.1.0 in /usr/local/lib/python3.7/dist-packages (from scikit-learn->-r https://raw.githubusercontent.com/bentoml/BentoML/main/examples/quickstart/requirements.txt (line 1)) (1.7.3)\n",
            "Requirement already satisfied: joblib>=0.11 in /usr/local/lib/python3.7/dist-packages (from scikit-learn->-r https://raw.githubusercontent.com/bentoml/BentoML/main/examples/quickstart/requirements.txt (line 1)) (1.2.0)\n",
            "Requirement already satisfied: threadpoolctl>=2.0.0 in /usr/local/lib/python3.7/dist-packages (from scikit-learn->-r https://raw.githubusercontent.com/bentoml/BentoML/main/examples/quickstart/requirements.txt (line 1)) (3.1.0)\n",
            "Requirement already satisfied: pytz>=2017.3 in /usr/local/lib/python3.7/dist-packages (from pandas->-r https://raw.githubusercontent.com/bentoml/BentoML/main/examples/quickstart/requirements.txt (line 2)) (2022.6)\n",
            "Requirement already satisfied: six>=1.5 in /usr/local/lib/python3.7/dist-packages (from python-dateutil->bentoml>=1.0.0->-r https://raw.githubusercontent.com/bentoml/BentoML/main/examples/quickstart/requirements.txt (line 3)) (1.15.0)\n",
            "Requirement already satisfied: frozenlist>=1.1.1 in /usr/local/lib/python3.7/dist-packages (from aiohttp->bentoml>=1.0.0->-r https://raw.githubusercontent.com/bentoml/BentoML/main/examples/quickstart/requirements.txt (line 3)) (1.3.1)\n",
            "Requirement already satisfied: aiosignal>=1.1.2 in /usr/local/lib/python3.7/dist-packages (from aiohttp->bentoml>=1.0.0->-r https://raw.githubusercontent.com/bentoml/BentoML/main/examples/quickstart/requirements.txt (line 3)) (1.2.0)\n",
            "Requirement already satisfied: charset-normalizer<3.0,>=2.0 in /usr/local/lib/python3.7/dist-packages (from aiohttp->bentoml>=1.0.0->-r https://raw.githubusercontent.com/bentoml/BentoML/main/examples/quickstart/requirements.txt (line 3)) (2.1.1)\n",
            "Requirement already satisfied: multidict<7.0,>=4.5 in /usr/local/lib/python3.7/dist-packages (from aiohttp->bentoml>=1.0.0->-r https://raw.githubusercontent.com/bentoml/BentoML/main/examples/quickstart/requirements.txt (line 3)) (6.0.2)\n",
            "Requirement already satisfied: asynctest==0.13.0 in /usr/local/lib/python3.7/dist-packages (from aiohttp->bentoml>=1.0.0->-r https://raw.githubusercontent.com/bentoml/BentoML/main/examples/quickstart/requirements.txt (line 3)) (0.13.0)\n",
            "Requirement already satisfied: yarl<2.0,>=1.0 in /usr/local/lib/python3.7/dist-packages (from aiohttp->bentoml>=1.0.0->-r https://raw.githubusercontent.com/bentoml/BentoML/main/examples/quickstart/requirements.txt (line 3)) (1.8.1)\n",
            "Requirement already satisfied: async-timeout<5.0,>=4.0.0a3 in /usr/local/lib/python3.7/dist-packages (from aiohttp->bentoml>=1.0.0->-r https://raw.githubusercontent.com/bentoml/BentoML/main/examples/quickstart/requirements.txt (line 3)) (4.0.2)\n",
            "Requirement already satisfied: tomli>=1.0.0 in /usr/local/lib/python3.7/dist-packages (from build->pip-tools>=6.6.2->bentoml>=1.0.0->-r https://raw.githubusercontent.com/bentoml/BentoML/main/examples/quickstart/requirements.txt (line 3)) (2.0.1)\n",
            "Requirement already satisfied: pep517>=0.9.1 in /usr/local/lib/python3.7/dist-packages (from build->pip-tools>=6.6.2->bentoml>=1.0.0->-r https://raw.githubusercontent.com/bentoml/BentoML/main/examples/quickstart/requirements.txt (line 3)) (0.13.0)\n",
            "Requirement already satisfied: zipp>=0.5 in /usr/local/lib/python3.7/dist-packages (from importlib-metadata->bentoml>=1.0.0->-r https://raw.githubusercontent.com/bentoml/BentoML/main/examples/quickstart/requirements.txt (line 3)) (3.10.0)\n",
            "Requirement already satisfied: appdirs~=1.4.3 in /usr/local/lib/python3.7/dist-packages (from fs->bentoml>=1.0.0->-r https://raw.githubusercontent.com/bentoml/BentoML/main/examples/quickstart/requirements.txt (line 3)) (1.4.4)\n",
            "Requirement already satisfied: urllib3!=1.25.0,!=1.25.1,<1.26,>=1.21.1 in /usr/local/lib/python3.7/dist-packages (from requests->bentoml>=1.0.0->-r https://raw.githubusercontent.com/bentoml/BentoML/main/examples/quickstart/requirements.txt (line 3)) (1.24.3)\n",
            "Requirement already satisfied: chardet<4,>=3.0.2 in /usr/local/lib/python3.7/dist-packages (from requests->bentoml>=1.0.0->-r https://raw.githubusercontent.com/bentoml/BentoML/main/examples/quickstart/requirements.txt (line 3)) (3.0.4)\n",
            "Requirement already satisfied: certifi>=2017.4.17 in /usr/local/lib/python3.7/dist-packages (from requests->bentoml>=1.0.0->-r https://raw.githubusercontent.com/bentoml/BentoML/main/examples/quickstart/requirements.txt (line 3)) (2022.9.24)\n",
            "Requirement already satisfied: contextlib2>=0.5.5 in /usr/local/lib/python3.7/dist-packages (from schema->bentoml>=1.0.0->-r https://raw.githubusercontent.com/bentoml/BentoML/main/examples/quickstart/requirements.txt (line 3)) (0.5.5)\n",
            "Collecting h11>=0.8\n",
            "  Downloading h11-0.14.0-py3-none-any.whl (58 kB)\n",
            "\u001b[K     |████████████████████████████████| 58 kB 4.9 MB/s \n",
            "\u001b[?25hBuilding wheels for collected packages: backports.shutil-copytree, python-multipart\n",
            "  Building wheel for backports.shutil-copytree (setup.py) ... \u001b[?25l\u001b[?25hdone\n",
            "  Created wheel for backports.shutil-copytree: filename=backports.shutil_copytree-0.0.0.2-py3-none-any.whl size=3579 sha256=4763e5d00f7f21dcb5db9577b7c1327a6bd98dd224425b82f23baaff1d4e018c\n",
            "  Stored in directory: /root/.cache/pip/wheels/c0/eb/36/e2f012ecfdf0a3db261712eb905852981ca85c6a350c2297ff\n",
            "  Building wheel for python-multipart (setup.py) ... \u001b[?25l\u001b[?25hdone\n",
            "  Created wheel for python-multipart: filename=python_multipart-0.0.5-py3-none-any.whl size=31676 sha256=4a4426ae9c6615ddc2462013ebdf6d3c9d84bfd62e05b93b7ac95e875e6cfbc3\n",
            "  Stored in directory: /root/.cache/pip/wheels/2c/41/7c/bfd1c180534ffdcc0972f78c5758f89881602175d48a8bcd2c\n",
            "Successfully built backports.shutil-copytree python-multipart\n",
            "Installing collected packages: deprecated, sniffio, opentelemetry-api, pip, opentelemetry-util-http, opentelemetry-semantic-conventions, opentelemetry-instrumentation, h11, exceptiongroup, commonmark, build, asgiref, anyio, watchfiles, uvicorn, starlette, simple-di, schema, rich, python-multipart, python-json-logger, pynvml, pip-tools, pip-requirements-parser, pathspec, opentelemetry-sdk, opentelemetry-instrumentation-asgi, opentelemetry-instrumentation-aiohttp-client, Jinja2, fs, deepmerge, circus, cattrs, backports.shutil-copytree, backports.cached-property, bentoml\n",
            "  Attempting uninstall: pip\n",
            "    Found existing installation: pip 21.1.3\n",
            "    Uninstalling pip-21.1.3:\n",
            "      Successfully uninstalled pip-21.1.3\n",
            "  Attempting uninstall: pip-tools\n",
            "    Found existing installation: pip-tools 6.2.0\n",
            "    Uninstalling pip-tools-6.2.0:\n",
            "      Successfully uninstalled pip-tools-6.2.0\n",
            "  Attempting uninstall: Jinja2\n",
            "    Found existing installation: Jinja2 2.11.3\n",
            "    Uninstalling Jinja2-2.11.3:\n",
            "      Successfully uninstalled Jinja2-2.11.3\n",
            "\u001b[31mERROR: pip's dependency resolver does not currently take into account all the packages that are installed. This behaviour is the source of the following dependency conflicts.\n",
            "notebook 5.7.16 requires jinja2<=3.0.0, but you have jinja2 3.1.2 which is incompatible.\n",
            "flask 1.1.4 requires Jinja2<3.0,>=2.10.1, but you have jinja2 3.1.2 which is incompatible.\u001b[0m\n",
            "Successfully installed Jinja2-3.1.2 anyio-3.6.2 asgiref-3.5.2 backports.cached-property-1.0.2 backports.shutil-copytree-0.0.0.2 bentoml-1.0.10 build-0.9.0 cattrs-22.2.0 circus-0.17.1 commonmark-0.9.1 deepmerge-1.1.0 deprecated-1.2.13 exceptiongroup-1.0.1 fs-2.4.16 h11-0.14.0 opentelemetry-api-1.13.0 opentelemetry-instrumentation-0.34b0 opentelemetry-instrumentation-aiohttp-client-0.34b0 opentelemetry-instrumentation-asgi-0.34b0 opentelemetry-sdk-1.13.0 opentelemetry-semantic-conventions-0.34b0 opentelemetry-util-http-0.34b0 pathspec-0.10.1 pip-22.3.1 pip-requirements-parser-31.2.0 pip-tools-6.9.0 pynvml-11.4.1 python-json-logger-2.0.4 python-multipart-0.0.5 rich-12.6.0 schema-0.7.5 simple-di-0.1.5 sniffio-1.3.0 starlette-0.21.0 uvicorn-0.19.0 watchfiles-0.18.1\n"
          ]
        }
      ],
      "source": [
        "!pip install -r https://raw.githubusercontent.com/bentoml/BentoML/main/examples/quickstart/requirements.txt"
      ]
    },
    {
      "cell_type": "code",
      "source": [
        "import pandas as pd\n",
        "import numpy as np"
      ],
      "metadata": {
        "id": "AOUKwXeKeV3o"
      },
      "id": "AOUKwXeKeV3o",
      "execution_count": 2,
      "outputs": []
    },
    {
      "cell_type": "code",
      "source": [
        "df1 = pd.read_csv('https://raw.githubusercontent.com/arinaaandreeva/Datasets/main/CO2_emission_2008_13.csv')\n",
        "df2 = pd.read_csv('https://raw.githubusercontent.com/arinaaandreeva/Datasets/main/CO2_emission_2014.csv')\n",
        "df = pd.concat([df1, df2], axis=0)\n",
        "print(df1.shape, df2.shape, df.shape)"
      ],
      "metadata": {
        "id": "58lRPyg4eX74",
        "colab": {
          "base_uri": "https://localhost:8080/"
        },
        "outputId": "e946b73e-a029-410b-e78b-f1cba290fed0"
      },
      "id": "58lRPyg4eX74",
      "execution_count": 3,
      "outputs": [
        {
          "output_type": "stream",
          "name": "stdout",
          "text": [
            "(1584, 13) (264, 13) (1848, 13)\n"
          ]
        }
      ]
    },
    {
      "cell_type": "code",
      "source": [
        "df.columns = df.columns.str.lower().str.replace(' ', '_')"
      ],
      "metadata": {
        "id": "jrfW-qyyeYum"
      },
      "id": "jrfW-qyyeYum",
      "execution_count": 4,
      "outputs": []
    },
    {
      "cell_type": "code",
      "source": [
        "strings = list(df.dtypes[df.dtypes == 'object'].index)\n",
        "strings = strings[1:len(strings)]\n",
        "strings"
      ],
      "metadata": {
        "id": "QFf-8L9yebSA",
        "colab": {
          "base_uri": "https://localhost:8080/"
        },
        "outputId": "7a857d79-9553-40e5-d3b2-9b65df717fb8"
      },
      "id": "QFf-8L9yebSA",
      "execution_count": 5,
      "outputs": [
        {
          "output_type": "execute_result",
          "data": {
            "text/plain": [
              "['gdp_growth',\n",
              " 'co2_emission_metrics_per_capita',\n",
              " 'electricity_access',\n",
              " 'urban_population',\n",
              " 'population_growth',\n",
              " 'urban_population_growth_annual',\n",
              " 'live_stock_production',\n",
              " 'forest_area',\n",
              " 'renewable_energy_use',\n",
              " 'energy_use_kg_of_oil_per_capita',\n",
              " 'population_total']"
            ]
          },
          "metadata": {},
          "execution_count": 5
        }
      ]
    },
    {
      "cell_type": "code",
      "source": [
        "for i in strings:\n",
        "  df[i]=df[i].apply(lambda x:x.replace('..',''))\n",
        "  df[i]=df[i].apply(lambda x:x.replace(',',''))\n",
        "  df[i]=df[i].apply(pd.to_numeric)\n",
        "\n",
        "df['year']=df['year'].astype(object)\n",
        "df = df.fillna(0)"
      ],
      "metadata": {
        "id": "n70iSWBoee79"
      },
      "id": "n70iSWBoee79",
      "execution_count": 6,
      "outputs": []
    },
    {
      "cell_type": "code",
      "source": [
        "from sklearn.model_selection import train_test_split\n",
        "from sklearn.preprocessing import OneHotEncoder\n",
        "from sklearn.metrics import mean_squared_error as MSE\n",
        "from sklearn.metrics import r2_score"
      ],
      "metadata": {
        "id": "rwNbHi0Xee1K"
      },
      "id": "rwNbHi0Xee1K",
      "execution_count": 7,
      "outputs": []
    },
    {
      "cell_type": "code",
      "source": [
        "ohe = OneHotEncoder()\n",
        "transformed = ohe.fit_transform(df[['country', 'year']])\n",
        "print(transformed.toarray())"
      ],
      "metadata": {
        "id": "6fBpr-kYemib",
        "colab": {
          "base_uri": "https://localhost:8080/"
        },
        "outputId": "157949cd-50c5-45a0-be60-e4451d695e1c"
      },
      "id": "6fBpr-kYemib",
      "execution_count": 8,
      "outputs": [
        {
          "output_type": "stream",
          "name": "stdout",
          "text": [
            "[[1. 0. 0. ... 0. 0. 0.]\n",
            " [0. 1. 0. ... 0. 0. 0.]\n",
            " [0. 0. 1. ... 0. 0. 0.]\n",
            " ...\n",
            " [0. 0. 0. ... 0. 0. 1.]\n",
            " [0. 0. 0. ... 0. 0. 1.]\n",
            " [0. 0. 0. ... 0. 0. 1.]]\n"
          ]
        }
      ]
    },
    {
      "cell_type": "code",
      "source": [
        "df_full_train, df_test = train_test_split(df, test_size=0.2, random_state=1)\n",
        "df_train, df_val = train_test_split(df_full_train, test_size=0.25, random_state=1)"
      ],
      "metadata": {
        "id": "VOxxYp-4emdr"
      },
      "id": "VOxxYp-4emdr",
      "execution_count": 9,
      "outputs": []
    },
    {
      "cell_type": "code",
      "source": [
        "y_train = df_train.co2_emission_metrics_per_capita.values\n",
        "y_val = df_val.co2_emission_metrics_per_capita.values\n",
        "y_test = df_test.co2_emission_metrics_per_capita.values\n",
        "\n",
        "del df_train['co2_emission_metrics_per_capita']\n",
        "del df_val['co2_emission_metrics_per_capita']\n",
        "del df_test['co2_emission_metrics_per_capita']"
      ],
      "metadata": {
        "id": "BUL-PYdlemZ8"
      },
      "id": "BUL-PYdlemZ8",
      "execution_count": 10,
      "outputs": []
    },
    {
      "cell_type": "code",
      "source": [
        "from sklearn.feature_extraction import DictVectorizer\n",
        "dv = DictVectorizer(sparse=False)\n",
        "\n",
        "X_train = df_train.reset_index(drop=True)\n",
        "X_train_dict = X_train.to_dict(orient='records')\n",
        "X_train = dv.fit_transform(X_train_dict)\n",
        "\n",
        "X_val = df_val.reset_index(drop=True)\n",
        "X_val_dict = X_val.to_dict(orient='records')\n",
        "X_val = dv.fit_transform(X_val_dict)\n",
        "\n",
        "X_test = df_test.reset_index(drop=True)\n",
        "X_test_dict = X_test.to_dict(orient='records')\n",
        "X_test = dv.fit_transform(X_test_dict)"
      ],
      "metadata": {
        "id": "TRIMSa97esBS"
      },
      "id": "TRIMSa97esBS",
      "execution_count": 11,
      "outputs": []
    },
    {
      "cell_type": "code",
      "source": [
        "y_full_train = df_full_train['co2_emission_metrics_per_capita'].astype(int)\n",
        "del df_full_train['co2_emission_metrics_per_capita']\n",
        "dicts_full_train = df_full_train.to_dict(orient='records')\n",
        "\n",
        "dv = DictVectorizer(sparse=False)\n",
        "X_full_train = dv.fit_transform(dicts_full_train)\n",
        "\n",
        "dicts_test = df_test.to_dict(orient='records')\n",
        "X_test = dv.transform(dicts_test)"
      ],
      "metadata": {
        "id": "p24Nt7xcer8z"
      },
      "id": "p24Nt7xcer8z",
      "execution_count": 12,
      "outputs": []
    },
    {
      "cell_type": "code",
      "source": [
        "import xgboost as xgb\n",
        "from xgboost import XGBClassifier\n",
        "from xgboost.sklearn import XGBClassifier"
      ],
      "metadata": {
        "id": "FUJULKIPer6A"
      },
      "id": "FUJULKIPer6A",
      "execution_count": 13,
      "outputs": []
    },
    {
      "cell_type": "code",
      "source": [
        "dfulltrain = xgb.DMatrix(X_full_train, label=y_full_train,\n",
        "                    feature_names=dv.get_feature_names())\n",
        "\n",
        "dtest = xgb.DMatrix(X_test, feature_names=dv.get_feature_names())"
      ],
      "metadata": {
        "id": "xPZMlvVEezAp",
        "colab": {
          "base_uri": "https://localhost:8080/"
        },
        "outputId": "ce8fb78d-f2da-438b-d516-94849002853b"
      },
      "id": "xPZMlvVEezAp",
      "execution_count": 14,
      "outputs": [
        {
          "output_type": "stream",
          "name": "stderr",
          "text": [
            "/usr/local/lib/python3.7/dist-packages/sklearn/utils/deprecation.py:87: FutureWarning: Function get_feature_names is deprecated; get_feature_names is deprecated in 1.0 and will be removed in 1.2. Please use get_feature_names_out instead.\n",
            "  warnings.warn(msg, category=FutureWarning)\n"
          ]
        }
      ]
    },
    {
      "cell_type": "markdown",
      "id": "b66e31f7",
      "metadata": {
        "id": "b66e31f7"
      },
      "source": [
        "##  Model Training"
      ]
    },
    {
      "cell_type": "code",
      "execution_count": 15,
      "id": "eb526488",
      "metadata": {
        "id": "eb526488",
        "colab": {
          "base_uri": "https://localhost:8080/"
        },
        "outputId": "9533f062-2ea5-4fc7-fdea-2d64973b7451"
      },
      "outputs": [
        {
          "output_type": "stream",
          "name": "stdout",
          "text": [
            "[19:03:07] WARNING: /workspace/src/objective/regression_obj.cu:152: reg:linear is now deprecated in favor of reg:squarederror.\n"
          ]
        },
        {
          "output_type": "execute_result",
          "data": {
            "text/plain": [
              "XGBRegressor(learning_rate=0.5, n_estimators=200, seed=25)"
            ]
          },
          "metadata": {},
          "execution_count": 15
        }
      ],
      "source": [
        "\n",
        "model = xgb.XGBRegressor(learning_rate = 0.5, n_estimators = 200, seed = 25)\n",
        " \n",
        "model.fit(X_train, y_train)\n"
      ]
    },
    {
      "cell_type": "markdown",
      "id": "3c114c75",
      "metadata": {
        "id": "3c114c75"
      },
      "source": [
        "Save the `clf` model instance to BentoML local model store:"
      ]
    },
    {
      "cell_type": "code",
      "execution_count": 16,
      "id": "e94ed449",
      "metadata": {
        "id": "e94ed449",
        "colab": {
          "base_uri": "https://localhost:8080/"
        },
        "outputId": "62c80df4-8644-4383-b629-384e87cd532b"
      },
      "outputs": [
        {
          "output_type": "execute_result",
          "data": {
            "text/plain": [
              "Model(tag=\"co2_emission_model:e34hlcdamgvnuasc\", path=\"/root/bentoml/models/co2_emission_model/e34hlcdamgvnuasc/\")"
            ]
          },
          "metadata": {},
          "execution_count": 16
        }
      ],
      "source": [
        "import bentoml\n",
        "\n",
        "bentoml.sklearn.save_model(\"co2_emission_model\", model)"
      ]
    },
    {
      "cell_type": "markdown",
      "id": "d613e57e",
      "metadata": {
        "id": "d613e57e"
      },
      "source": [
        "Models saved can be accessed via `bentoml models` CLI command:"
      ]
    },
    {
      "cell_type": "code",
      "execution_count": 17,
      "id": "7d771f04",
      "metadata": {
        "id": "7d771f04",
        "colab": {
          "base_uri": "https://localhost:8080/"
        },
        "outputId": "5b229208-92ea-42a1-81b7-66593dd135de"
      },
      "outputs": [
        {
          "output_type": "stream",
          "name": "stdout",
          "text": [
            "\u001b[91;40mname\u001b[0m\u001b[97;40m:\u001b[0m\u001b[97;40m \u001b[0m\u001b[40mco2_emission_model\u001b[0m\u001b[40m                                                        \u001b[0m\n",
            "\u001b[91;40mversion\u001b[0m\u001b[97;40m:\u001b[0m\u001b[97;40m \u001b[0m\u001b[40me34hlcdamgvnuasc\u001b[0m\u001b[40m                                                       \u001b[0m\n",
            "\u001b[91;40mmodule\u001b[0m\u001b[97;40m:\u001b[0m\u001b[97;40m \u001b[0m\u001b[40mbentoml.sklearn\u001b[0m\u001b[40m                                                         \u001b[0m\n",
            "\u001b[91;40mlabels\u001b[0m\u001b[97;40m:\u001b[0m\u001b[97;40m \u001b[0m\u001b[40m{\u001b[0m\u001b[40m}\u001b[0m\u001b[40m                                                                      \u001b[0m\n",
            "\u001b[91;40moptions\u001b[0m\u001b[97;40m:\u001b[0m\u001b[97;40m \u001b[0m\u001b[40m{\u001b[0m\u001b[40m}\u001b[0m\u001b[40m                                                                     \u001b[0m\n",
            "\u001b[91;40mmetadata\u001b[0m\u001b[97;40m:\u001b[0m\u001b[97;40m \u001b[0m\u001b[40m{\u001b[0m\u001b[40m}\u001b[0m\u001b[40m                                                                    \u001b[0m\n",
            "\u001b[91;40mcontext\u001b[0m\u001b[97;40m:\u001b[0m\u001b[40m                                                                        \u001b[0m\n",
            "\u001b[97;40m  \u001b[0m\u001b[91;40mframework_name\u001b[0m\u001b[97;40m:\u001b[0m\u001b[97;40m \u001b[0m\u001b[40msklearn\u001b[0m\u001b[40m                                                       \u001b[0m\n",
            "\u001b[97;40m  \u001b[0m\u001b[91;40mframework_versions\u001b[0m\u001b[97;40m:\u001b[0m\u001b[40m                                                           \u001b[0m\n",
            "\u001b[97;40m    \u001b[0m\u001b[91;40mscikit-learn\u001b[0m\u001b[97;40m:\u001b[0m\u001b[97;40m \u001b[0m\u001b[40m1.0.2\u001b[0m\u001b[40m                                                         \u001b[0m\n",
            "\u001b[97;40m  \u001b[0m\u001b[91;40mbentoml_version\u001b[0m\u001b[97;40m:\u001b[0m\u001b[97;40m \u001b[0m\u001b[40m1.0.10\u001b[0m\u001b[40m                                                       \u001b[0m\n",
            "\u001b[97;40m  \u001b[0m\u001b[91;40mpython_version\u001b[0m\u001b[97;40m:\u001b[0m\u001b[97;40m \u001b[0m\u001b[40m3.7.15\u001b[0m\u001b[40m                                                        \u001b[0m\n",
            "\u001b[91;40msignatures\u001b[0m\u001b[97;40m:\u001b[0m\u001b[40m                                                                     \u001b[0m\n",
            "\u001b[97;40m  \u001b[0m\u001b[91;40mpredict\u001b[0m\u001b[97;40m:\u001b[0m\u001b[40m                                                                      \u001b[0m\n",
            "\u001b[97;40m    \u001b[0m\u001b[91;40mbatchable\u001b[0m\u001b[97;40m:\u001b[0m\u001b[97;40m \u001b[0m\u001b[40mfalse\u001b[0m\u001b[40m                                                            \u001b[0m\n",
            "\u001b[91;40mapi_version\u001b[0m\u001b[97;40m:\u001b[0m\u001b[97;40m \u001b[0m\u001b[40mv1\u001b[0m\u001b[40m                                                                 \u001b[0m\n",
            "\u001b[91;40mcreation_time\u001b[0m\u001b[97;40m:\u001b[0m\u001b[97;40m \u001b[0m\u001b[93;40m'\u001b[0m\u001b[93;40m2022-11-09T19:03:10.028229+00:00\u001b[0m\u001b[93;40m'\u001b[0m\u001b[40m                               \u001b[0m\n",
            "\u001b[40m                                                                                \u001b[0m\n"
          ]
        }
      ],
      "source": [
        "!bentoml models get co2_emission_model:latest"
      ]
    },
    {
      "cell_type": "code",
      "execution_count": 18,
      "id": "5a876780",
      "metadata": {
        "id": "5a876780",
        "colab": {
          "base_uri": "https://localhost:8080/"
        },
        "outputId": "eca88103-2c3f-4b88-a6d2-a71f7cf74352"
      },
      "outputs": [
        {
          "output_type": "stream",
          "name": "stdout",
          "text": [
            "\u001b[1m \u001b[0m\u001b[1mTag                         \u001b[0m\u001b[1m \u001b[0m\u001b[1m \u001b[0m\u001b[1mModule         \u001b[0m\u001b[1m \u001b[0m\u001b[1m \u001b[0m\u001b[1mSize      \u001b[0m\u001b[1m \u001b[0m\u001b[1m \u001b[0m\u001b[1mCreation Time      \u001b[0m\u001b[1m \u001b[0m\n",
            " co2_emission_model:e34hlcda…  bentoml.sklearn  108.26 KiB  2022-11-09 19:03:10 \n"
          ]
        }
      ],
      "source": [
        "!bentoml models list"
      ]
    },
    {
      "cell_type": "markdown",
      "id": "672721c4",
      "metadata": {
        "id": "672721c4"
      },
      "source": [
        "To verify that the saved model can be loaded correctly:"
      ]
    },
    {
      "cell_type": "code",
      "execution_count": 19,
      "id": "28ac794b",
      "metadata": {
        "id": "28ac794b",
        "colab": {
          "base_uri": "https://localhost:8080/"
        },
        "outputId": "ffa7d9d0-0c90-4575-c2f5-cfbddc594b20"
      },
      "outputs": [
        {
          "output_type": "stream",
          "name": "stdout",
          "text": [
            "[19:03:15] WARNING: /workspace/src/objective/regression_obj.cu:152: reg:linear is now deprecated in favor of reg:squarederror.\n"
          ]
        },
        {
          "output_type": "execute_result",
          "data": {
            "text/plain": [
              "array([ 3.96991825e+00,  2.89582157e+00,  3.90133739e-01,  3.81041956e+00,\n",
              "        7.35237718e-01,  1.01022310e+01,  3.85926306e-01,  5.76937103e+00,\n",
              "        1.03421962e+00,  2.42962170e+00,  3.77210975e+00,  5.47820330e-02,\n",
              "        2.36355114e+00,  2.96201897e+00,  4.91363585e-01,  3.15080762e-01,\n",
              "        1.60844815e+00,  1.13750477e+01,  1.81739122e-01,  2.23340321e+00,\n",
              "        2.95209646e-01,  1.23808831e-01,  2.43383265e+00,  6.60575724e+00,\n",
              "        2.32693172e+00,  7.26609373e+00,  6.70532513e+00,  6.80411863e+00,\n",
              "        1.93102336e+00,  1.34394312e+00,  8.80993271e+00, -2.00340080e+00,\n",
              "        1.10505724e+01,  2.86899757e+00,  6.13670588e+00,  5.21996450e+00,\n",
              "        9.46460056e+00,  2.20825043e+01,  2.13494635e+00,  4.05471039e+00,\n",
              "        5.58597040e+00,  7.35179305e-01,  5.73042870e-01,  1.12821436e+01,\n",
              "        6.76892185e+00,  1.33306766e+00,  9.70284939e+00,  1.76167507e+01,\n",
              "        4.85361338e+00,  3.92721868e+00,  3.59889460e+00,  9.43729281e-03,\n",
              "        7.82278967e+00,  1.89362943e+00,  6.46099746e-01,  8.54989886e-01,\n",
              "        6.51039934e+00,  6.34271443e-01,  1.52627869e+01,  9.53877068e+00,\n",
              "        1.47368879e+01,  9.54802573e-01,  6.85606527e+00,  1.10383358e+01,\n",
              "        1.34183896e+00,  7.63687372e-01,  7.77428627e-01,  1.49708772e+00,\n",
              "        6.46351957e+00,  1.04934597e+01,  3.57691908e+00,  5.55594921e+00,\n",
              "        6.86904788e-01,  5.23464918e-01,  3.91865015e+00,  1.11045361e+01,\n",
              "        5.58597040e+00,  1.20845308e+01,  3.43870163e+00,  1.10708418e+01,\n",
              "        9.13718224e+00,  5.46564221e-01,  9.58764076e+00,  4.45702791e-01,\n",
              "        5.36381423e-01,  6.63420725e+00,  4.01928842e-01,  1.67777300e+00,\n",
              "        1.91764534e-01,  5.36381423e-01,  1.10726804e-01,  3.57606339e+00,\n",
              "        4.45805758e-01, -3.11158299e-02,  7.94029474e-01,  2.37914543e+01,\n",
              "        2.32127762e+01,  1.10505724e+01,  2.56894636e+00,  1.35351634e+00,\n",
              "        3.45907748e-01,  1.19040519e-01,  2.27561188e+01,  8.30069959e-01,\n",
              "        2.50361848e+00,  3.29508948e+00, -3.73878837e-01,  5.58597040e+00,\n",
              "        3.03961134e+00,  1.18549042e+01,  7.66139412e+00,  4.86265564e+00,\n",
              "       -1.22939467e-01,  1.36219144e+00,  3.53146613e-01,  2.95175850e-01,\n",
              "        8.12078834e-01,  1.32127419e+01,  3.72813296e+00,  6.89924955e+00,\n",
              "        6.80411863e+00,  5.71480227e+00,  2.18521690e+00,  3.32597584e-01,\n",
              "        2.43360728e-01,  5.62759733e+00,  3.50576949e+00,  4.94846493e-01,\n",
              "        4.20975304e+00,  2.19485264e+01,  6.40627146e-01,  1.62212074e+00,\n",
              "        5.78347921e+00,  3.16772881e+01, -1.16646171e-01,  1.04804726e+01,\n",
              "        6.89954185e+00,  1.67488396e-01,  9.50001180e-02,  6.66222191e+00,\n",
              "        2.24116516e+00,  3.46898270e+00,  1.34343147e+00,  8.43062997e-01,\n",
              "        3.79275769e-01,  4.62248182e+00,  7.64401436e+00,  7.29211426e+00,\n",
              "        8.92090702e+00,  2.06756973e+00,  2.27414131e+00,  8.12078834e-01,\n",
              "        1.01575732e+00,  5.64254522e+00,  3.89883709e+00,  2.57976127e+00,\n",
              "        1.94065070e+00,  1.19015055e+01,  2.00833857e-01,  8.07431984e+00,\n",
              "        7.23437643e+00,  1.71145689e+00,  1.17938614e+01,  8.89853716e-01,\n",
              "        4.67510879e-01,  4.11852300e-02, -2.82456279e-01,  8.92094040e+00,\n",
              "       -1.16646171e-01, -2.18800306e-02,  2.13751197e-01,  2.50005364e+00,\n",
              "        5.58239365e+00,  5.69865465e+00,  6.18331909e+00,  8.70526981e+00,\n",
              "        7.64783144e-01,  3.19191623e+00,  4.23856914e-01,  1.51392233e+00,\n",
              "        1.16701275e-01,  4.15871620e+00, -4.85814691e-01,  2.15765724e+01,\n",
              "        8.06866169e-01,  3.44810891e+00,  2.15694213e+00,  3.37400734e-02,\n",
              "        6.76057100e-01,  5.24542522e+00,  2.28724670e+00,  5.38747191e-01,\n",
              "        9.71585560e+00,  7.43987739e-01,  4.35228443e+00,  1.59549624e-01,\n",
              "        2.10811853e+00,  3.35412526e+00,  6.67054117e-01,  5.07129478e+00,\n",
              "        1.55368239e-01,  1.74741912e+00,  2.71375597e-01,  2.94159818e+00,\n",
              "        1.25902563e-01,  4.31680888e-01,  7.77462482e-01,  6.92260075e+00,\n",
              "        1.33306766e+00,  2.70365536e-01,  6.40627146e-01,  3.59502912e-01,\n",
              "        2.06146860e+00,  9.73237801e+00,  6.89158142e-02,  1.76310182e+00,\n",
              "        1.65937653e+01,  7.49569368e+00,  1.27230000e+00,  1.40588552e-01,\n",
              "        2.03036308e-01,  7.87567854e+00,  1.49393806e+01,  1.83779585e+00,\n",
              "        2.90387535e+01,  1.33192718e-01,  6.84651494e-01,  6.13031816e+00,\n",
              "        1.02320089e+01,  4.72349930e+00,  1.65178776e+00,  6.42158937e+00,\n",
              "        1.58123493e+00,  7.89574862e+00,  5.46110988e-01,  7.63150978e+00,\n",
              "        8.06866169e-01,  2.91185379e+00,  7.77462482e-01,  6.36409998e-01,\n",
              "        1.42499828e+00,  1.19472895e+01,  1.23530895e-01,  4.59876537e+00,\n",
              "        8.00273895e+00,  4.94503450e+00,  1.52739823e+00,  9.41798973e+00,\n",
              "        7.64876652e+00,  9.09181404e+00,  4.20420074e+00,  1.19112177e+01,\n",
              "        3.10828447e-01,  1.00478134e+01,  9.50147724e+00,  1.95802069e+00,\n",
              "        6.36351705e-01,  2.31502682e-01,  2.10709453e-01,  7.32249546e+00,\n",
              "        5.82165670e+00,  9.94873345e-02,  1.49792922e+00,  9.00691569e-01,\n",
              "        1.61408353e+00, -2.82456279e-01,  7.69690561e+00,  6.96696472e+00,\n",
              "        5.86672401e+00,  1.58997524e+00,  1.98035210e-01,  6.21451139e-01,\n",
              "        3.50480008e+00,  7.80998755e+00,  3.35887909e+01,  1.95945501e+00,\n",
              "        8.88066471e-01,  5.36381423e-01,  7.83154058e+00,  2.36391258e+00,\n",
              "        8.65972424e+00,  2.66812146e-02,  6.32455683e+00,  3.99434543e+00,\n",
              "        3.01664543e+00,  1.66706651e-01,  1.70417726e-02,  7.25691605e+00,\n",
              "        1.41243410e+01,  5.22070587e-01,  6.61423922e-01,  5.94587421e+00,\n",
              "        1.76037922e+01,  6.53387928e+00,  1.19791180e-01,  1.62054861e+00,\n",
              "        7.35786915e+00,  4.93446648e-01,  1.19112177e+01,  8.80641174e+00,\n",
              "        2.96198535e+00,  1.17005408e-01,  3.79275769e-01,  7.77428627e-01,\n",
              "        1.08586752e+00,  3.36442620e-01,  6.13296556e+00,  2.10054946e+00,\n",
              "        1.24860913e-01,  4.45676327e-01,  6.43129921e+00,  1.18384066e+01,\n",
              "        1.03532135e+00,  5.97716570e+00,  1.24860913e-01,  6.60575724e+00,\n",
              "        1.09664154e+00,  8.55023742e-01,  3.67537260e+00,  3.93162906e-01,\n",
              "        9.82663035e-01,  1.06093683e+01,  6.58782721e+00,  6.06496000e+00,\n",
              "       -3.94055486e-01, -4.71006989e-01,  1.67432559e+00,  2.41419643e-01,\n",
              "        2.09599876e+00,  1.72192299e+00,  9.17766094e-01,  5.81135452e-01,\n",
              "        1.44828987e+00,  2.54442382e+00, -5.65100908e-02,  6.69108343e+00,\n",
              "        1.50039864e+00,  2.62374067e+00,  8.00256014e-01,  5.50386369e-01,\n",
              "       -5.37597537e-02,  8.06866169e-01, -1.16646171e-01,  1.42247858e+01,\n",
              "        9.17465866e-01,  1.48301935e+00,  6.18328524e+00,  1.11409817e+01,\n",
              "        2.36395216e+00,  1.55421168e-01,  6.72055197e+00,  3.44810891e+00,\n",
              "        3.19601250e+00,  5.73110461e-01,  3.24529648e+00,  6.25091076e-01,\n",
              "        5.91699779e-01,  4.66434121e-01,  5.88567436e-01,  8.05208492e+00,\n",
              "        1.01368608e+01,  7.82778621e-01,  1.53530273e+01,  4.62406969e+00,\n",
              "        2.52123451e+00, -5.65100908e-02,  1.68182964e+01,  1.64217734e+00,\n",
              "        4.57422400e+00,  5.22070587e-01], dtype=float32)"
            ]
          },
          "metadata": {},
          "execution_count": 19
        }
      ],
      "source": [
        "loaded_model = bentoml.sklearn.load_model(\"co2_emission_model:latest\")\n",
        "\n",
        "loaded_model.predict(X_test)"
      ]
    },
    {
      "cell_type": "code",
      "execution_count": 20,
      "id": "83205567",
      "metadata": {
        "id": "83205567",
        "colab": {
          "base_uri": "https://localhost:8080/"
        },
        "outputId": "e7f09982-560a-4075-8993-dd5f04650b0d"
      },
      "outputs": [
        {
          "output_type": "stream",
          "name": "stderr",
          "text": [
            "WARNING:bentoml._internal.runner.runner:'Runner.init_local' is for debugging and testing only. Make sure to remove it before deploying to production.\n"
          ]
        },
        {
          "output_type": "stream",
          "name": "stdout",
          "text": [
            "[19:03:15] WARNING: /workspace/src/objective/regression_obj.cu:152: reg:linear is now deprecated in favor of reg:squarederror.\n"
          ]
        },
        {
          "output_type": "execute_result",
          "data": {
            "text/plain": [
              "array([ 3.96991825e+00,  2.89582157e+00,  3.90133739e-01,  3.81041956e+00,\n",
              "        7.35237718e-01,  1.01022310e+01,  3.85926306e-01,  5.76937103e+00,\n",
              "        1.03421962e+00,  2.42962170e+00,  3.77210975e+00,  5.47820330e-02,\n",
              "        2.36355114e+00,  2.96201897e+00,  4.91363585e-01,  3.15080762e-01,\n",
              "        1.60844815e+00,  1.13750477e+01,  1.81739122e-01,  2.23340321e+00,\n",
              "        2.95209646e-01,  1.23808831e-01,  2.43383265e+00,  6.60575724e+00,\n",
              "        2.32693172e+00,  7.26609373e+00,  6.70532513e+00,  6.80411863e+00,\n",
              "        1.93102336e+00,  1.34394312e+00,  8.80993271e+00, -2.00340080e+00,\n",
              "        1.10505724e+01,  2.86899757e+00,  6.13670588e+00,  5.21996450e+00,\n",
              "        9.46460056e+00,  2.20825043e+01,  2.13494635e+00,  4.05471039e+00,\n",
              "        5.58597040e+00,  7.35179305e-01,  5.73042870e-01,  1.12821436e+01,\n",
              "        6.76892185e+00,  1.33306766e+00,  9.70284939e+00,  1.76167507e+01,\n",
              "        4.85361338e+00,  3.92721868e+00,  3.59889460e+00,  9.43729281e-03,\n",
              "        7.82278967e+00,  1.89362943e+00,  6.46099746e-01,  8.54989886e-01,\n",
              "        6.51039934e+00,  6.34271443e-01,  1.52627869e+01,  9.53877068e+00,\n",
              "        1.47368879e+01,  9.54802573e-01,  6.85606527e+00,  1.10383358e+01,\n",
              "        1.34183896e+00,  7.63687372e-01,  7.77428627e-01,  1.49708772e+00,\n",
              "        6.46351957e+00,  1.04934597e+01,  3.57691908e+00,  5.55594921e+00,\n",
              "        6.86904788e-01,  5.23464918e-01,  3.91865015e+00,  1.11045361e+01,\n",
              "        5.58597040e+00,  1.20845308e+01,  3.43870163e+00,  1.10708418e+01,\n",
              "        9.13718224e+00,  5.46564221e-01,  9.58764076e+00,  4.45702791e-01,\n",
              "        5.36381423e-01,  6.63420725e+00,  4.01928842e-01,  1.67777300e+00,\n",
              "        1.91764534e-01,  5.36381423e-01,  1.10726804e-01,  3.57606339e+00,\n",
              "        4.45805758e-01, -3.11158299e-02,  7.94029474e-01,  2.37914543e+01,\n",
              "        2.32127762e+01,  1.10505724e+01,  2.56894636e+00,  1.35351634e+00,\n",
              "        3.45907748e-01,  1.19040519e-01,  2.27561188e+01,  8.30069959e-01,\n",
              "        2.50361848e+00,  3.29508948e+00, -3.73878837e-01,  5.58597040e+00,\n",
              "        3.03961134e+00,  1.18549042e+01,  7.66139412e+00,  4.86265564e+00,\n",
              "       -1.22939467e-01,  1.36219144e+00,  3.53146613e-01,  2.95175850e-01,\n",
              "        8.12078834e-01,  1.32127419e+01,  3.72813296e+00,  6.89924955e+00,\n",
              "        6.80411863e+00,  5.71480227e+00,  2.18521690e+00,  3.32597584e-01,\n",
              "        2.43360728e-01,  5.62759733e+00,  3.50576949e+00,  4.94846493e-01,\n",
              "        4.20975304e+00,  2.19485264e+01,  6.40627146e-01,  1.62212074e+00,\n",
              "        5.78347921e+00,  3.16772881e+01, -1.16646171e-01,  1.04804726e+01,\n",
              "        6.89954185e+00,  1.67488396e-01,  9.50001180e-02,  6.66222191e+00,\n",
              "        2.24116516e+00,  3.46898270e+00,  1.34343147e+00,  8.43062997e-01,\n",
              "        3.79275769e-01,  4.62248182e+00,  7.64401436e+00,  7.29211426e+00,\n",
              "        8.92090702e+00,  2.06756973e+00,  2.27414131e+00,  8.12078834e-01,\n",
              "        1.01575732e+00,  5.64254522e+00,  3.89883709e+00,  2.57976127e+00,\n",
              "        1.94065070e+00,  1.19015055e+01,  2.00833857e-01,  8.07431984e+00,\n",
              "        7.23437643e+00,  1.71145689e+00,  1.17938614e+01,  8.89853716e-01,\n",
              "        4.67510879e-01,  4.11852300e-02, -2.82456279e-01,  8.92094040e+00,\n",
              "       -1.16646171e-01, -2.18800306e-02,  2.13751197e-01,  2.50005364e+00,\n",
              "        5.58239365e+00,  5.69865465e+00,  6.18331909e+00,  8.70526981e+00,\n",
              "        7.64783144e-01,  3.19191623e+00,  4.23856914e-01,  1.51392233e+00,\n",
              "        1.16701275e-01,  4.15871620e+00, -4.85814691e-01,  2.15765724e+01,\n",
              "        8.06866169e-01,  3.44810891e+00,  2.15694213e+00,  3.37400734e-02,\n",
              "        6.76057100e-01,  5.24542522e+00,  2.28724670e+00,  5.38747191e-01,\n",
              "        9.71585560e+00,  7.43987739e-01,  4.35228443e+00,  1.59549624e-01,\n",
              "        2.10811853e+00,  3.35412526e+00,  6.67054117e-01,  5.07129478e+00,\n",
              "        1.55368239e-01,  1.74741912e+00,  2.71375597e-01,  2.94159818e+00,\n",
              "        1.25902563e-01,  4.31680888e-01,  7.77462482e-01,  6.92260075e+00,\n",
              "        1.33306766e+00,  2.70365536e-01,  6.40627146e-01,  3.59502912e-01,\n",
              "        2.06146860e+00,  9.73237801e+00,  6.89158142e-02,  1.76310182e+00,\n",
              "        1.65937653e+01,  7.49569368e+00,  1.27230000e+00,  1.40588552e-01,\n",
              "        2.03036308e-01,  7.87567854e+00,  1.49393806e+01,  1.83779585e+00,\n",
              "        2.90387535e+01,  1.33192718e-01,  6.84651494e-01,  6.13031816e+00,\n",
              "        1.02320089e+01,  4.72349930e+00,  1.65178776e+00,  6.42158937e+00,\n",
              "        1.58123493e+00,  7.89574862e+00,  5.46110988e-01,  7.63150978e+00,\n",
              "        8.06866169e-01,  2.91185379e+00,  7.77462482e-01,  6.36409998e-01,\n",
              "        1.42499828e+00,  1.19472895e+01,  1.23530895e-01,  4.59876537e+00,\n",
              "        8.00273895e+00,  4.94503450e+00,  1.52739823e+00,  9.41798973e+00,\n",
              "        7.64876652e+00,  9.09181404e+00,  4.20420074e+00,  1.19112177e+01,\n",
              "        3.10828447e-01,  1.00478134e+01,  9.50147724e+00,  1.95802069e+00,\n",
              "        6.36351705e-01,  2.31502682e-01,  2.10709453e-01,  7.32249546e+00,\n",
              "        5.82165670e+00,  9.94873345e-02,  1.49792922e+00,  9.00691569e-01,\n",
              "        1.61408353e+00, -2.82456279e-01,  7.69690561e+00,  6.96696472e+00,\n",
              "        5.86672401e+00,  1.58997524e+00,  1.98035210e-01,  6.21451139e-01,\n",
              "        3.50480008e+00,  7.80998755e+00,  3.35887909e+01,  1.95945501e+00,\n",
              "        8.88066471e-01,  5.36381423e-01,  7.83154058e+00,  2.36391258e+00,\n",
              "        8.65972424e+00,  2.66812146e-02,  6.32455683e+00,  3.99434543e+00,\n",
              "        3.01664543e+00,  1.66706651e-01,  1.70417726e-02,  7.25691605e+00,\n",
              "        1.41243410e+01,  5.22070587e-01,  6.61423922e-01,  5.94587421e+00,\n",
              "        1.76037922e+01,  6.53387928e+00,  1.19791180e-01,  1.62054861e+00,\n",
              "        7.35786915e+00,  4.93446648e-01,  1.19112177e+01,  8.80641174e+00,\n",
              "        2.96198535e+00,  1.17005408e-01,  3.79275769e-01,  7.77428627e-01,\n",
              "        1.08586752e+00,  3.36442620e-01,  6.13296556e+00,  2.10054946e+00,\n",
              "        1.24860913e-01,  4.45676327e-01,  6.43129921e+00,  1.18384066e+01,\n",
              "        1.03532135e+00,  5.97716570e+00,  1.24860913e-01,  6.60575724e+00,\n",
              "        1.09664154e+00,  8.55023742e-01,  3.67537260e+00,  3.93162906e-01,\n",
              "        9.82663035e-01,  1.06093683e+01,  6.58782721e+00,  6.06496000e+00,\n",
              "       -3.94055486e-01, -4.71006989e-01,  1.67432559e+00,  2.41419643e-01,\n",
              "        2.09599876e+00,  1.72192299e+00,  9.17766094e-01,  5.81135452e-01,\n",
              "        1.44828987e+00,  2.54442382e+00, -5.65100908e-02,  6.69108343e+00,\n",
              "        1.50039864e+00,  2.62374067e+00,  8.00256014e-01,  5.50386369e-01,\n",
              "       -5.37597537e-02,  8.06866169e-01, -1.16646171e-01,  1.42247858e+01,\n",
              "        9.17465866e-01,  1.48301935e+00,  6.18328524e+00,  1.11409817e+01,\n",
              "        2.36395216e+00,  1.55421168e-01,  6.72055197e+00,  3.44810891e+00,\n",
              "        3.19601250e+00,  5.73110461e-01,  3.24529648e+00,  6.25091076e-01,\n",
              "        5.91699779e-01,  4.66434121e-01,  5.88567436e-01,  8.05208492e+00,\n",
              "        1.01368608e+01,  7.82778621e-01,  1.53530273e+01,  4.62406969e+00,\n",
              "        2.52123451e+00, -5.65100908e-02,  1.68182964e+01,  1.64217734e+00,\n",
              "        4.57422400e+00,  5.22070587e-01], dtype=float32)"
            ]
          },
          "metadata": {},
          "execution_count": 20
        }
      ],
      "source": [
        "# Create a Runner instance:\n",
        "model_runner = bentoml.sklearn.get(\"co2_emission_model:latest\").to_runner()\n",
        "\n",
        "# Runner#init_local initializes the model in current process, this is meant for development and testing only:\n",
        "model_runner.init_local()\n",
        "\n",
        "# This should yield the same result as the loaded model:\n",
        "model_runner.predict.run(X_test)"
      ]
    },
    {
      "cell_type": "markdown",
      "id": "3fa68254",
      "metadata": {
        "id": "3fa68254"
      },
      "source": [
        "## Serving the model\n"
      ]
    },
    {
      "cell_type": "code",
      "execution_count": 21,
      "id": "127aa3fd",
      "metadata": {
        "id": "127aa3fd",
        "colab": {
          "base_uri": "https://localhost:8080/"
        },
        "outputId": "b94ef1a4-faa7-41f3-f336-1e94a2e8fa1f"
      },
      "outputs": [
        {
          "output_type": "stream",
          "name": "stdout",
          "text": [
            "Writing service.py\n"
          ]
        }
      ],
      "source": [
        "%%writefile service.py\n",
        "import numpy as np\n",
        "import bentoml\n",
        "from bentoml.io import NumpyNdarray\n",
        "\n",
        "model_runner = bentoml.sklearn.get(\"co2_emission_model:latest\").to_runner()\n",
        "\n",
        "svc = bentoml.Service(\"co2_emission_classifier\", runners=[model_runner])\n",
        "\n",
        "@svc.api(input=NumpyNdarray(), output=NumpyNdarray())\n",
        "def classify(input_series: np.ndarray) -> np.ndarray:\n",
        "    return model_runner.predict.run(input_series)\n"
      ]
    },
    {
      "cell_type": "code",
      "execution_count": 22,
      "id": "7523b58f",
      "metadata": {
        "id": "7523b58f",
        "colab": {
          "base_uri": "https://localhost:8080/"
        },
        "outputId": "ffa87f1b-5b5a-45e9-cca6-d2309ef9398d"
      },
      "outputs": [
        {
          "output_type": "stream",
          "name": "stdout",
          "text": [
            "2022-11-09T19:03:17+0000 [INFO] [cli] Prometheus metrics for HTTP BentoServer from \"service.py:svc\" can be accessed at http://localhost:3000/metrics.\n",
            "2022-11-09T19:03:18+0000 [INFO] [cli] Starting development HTTP BentoServer from \"service.py:svc\" listening on http://0.0.0.0:3000 (Press CTRL+C to quit)\n",
            "2022-11-09 19:03:20 circus[188] [INFO] Loading the plugin...\n",
            "2022-11-09 19:03:20 circus[188] [INFO] Endpoint: 'tcp://127.0.0.1:51703'\n",
            "2022-11-09 19:03:20 circus[188] [INFO] Pub/sub: 'tcp://127.0.0.1:39003'\n",
            "2022-11-09T19:03:20+0000 [INFO] [observer] Watching directories: ['/content', '/root/bentoml/models']\n",
            "[19:03:22] WARNING: /workspace/src/objective/regression_obj.cu:152: reg:linear is now deprecated in favor of reg:squarederror.\n"
          ]
        }
      ],
      "source": [
        "!bentoml serve service.py:svc --reload"
      ]
    },
    {
      "cell_type": "markdown",
      "id": "4f1a8bcc",
      "metadata": {
        "id": "4f1a8bcc"
      },
      "source": [
        "### Build Bento for deployment"
      ]
    },
    {
      "cell_type": "code",
      "execution_count": 23,
      "id": "6458e417",
      "metadata": {
        "id": "6458e417",
        "colab": {
          "base_uri": "https://localhost:8080/"
        },
        "outputId": "95e50656-b07d-445c-d481-a05f398e273a"
      },
      "outputs": [
        {
          "output_type": "stream",
          "name": "stdout",
          "text": [
            "Writing bentofile.yaml\n"
          ]
        }
      ],
      "source": [
        "%%writefile bentofile.yaml\n",
        "service: \"service.py:svc\"\n",
        "labels:\n",
        "  owner: Andreeva_Arina\n",
        "  project: Prediction of CO2 emission\n",
        "include:\n",
        "- \"*.py\"\n",
        "python:\n",
        "  packages:\n",
        "    - scikit-learn\n",
        "    - pandas"
      ]
    },
    {
      "cell_type": "code",
      "source": [
        "!pip install pydantic"
      ],
      "metadata": {
        "id": "tFN1JF22sHfo",
        "colab": {
          "base_uri": "https://localhost:8080/"
        },
        "outputId": "9911375e-9f69-4c3b-d257-bf488a17e0e7"
      },
      "id": "tFN1JF22sHfo",
      "execution_count": 24,
      "outputs": [
        {
          "output_type": "stream",
          "name": "stdout",
          "text": [
            "Looking in indexes: https://pypi.org/simple, https://us-python.pkg.dev/colab-wheels/public/simple/\n",
            "Requirement already satisfied: pydantic in /usr/local/lib/python3.7/dist-packages (1.10.2)\n",
            "Requirement already satisfied: typing-extensions>=4.1.0 in /usr/local/lib/python3.7/dist-packages (from pydantic) (4.1.1)\n",
            "\u001b[33mWARNING: Running pip as the 'root' user can result in broken permissions and conflicting behaviour with the system package manager. It is recommended to use a virtual environment instead: https://pip.pypa.io/warnings/venv\u001b[0m\u001b[33m\n",
            "\u001b[0m"
          ]
        }
      ]
    },
    {
      "cell_type": "code",
      "source": [
        "from pydantic import BaseModel"
      ],
      "metadata": {
        "id": "4EmtdlDksKk-"
      },
      "id": "4EmtdlDksKk-",
      "execution_count": 25,
      "outputs": []
    },
    {
      "cell_type": "code",
      "source": [
        "# Create pydantic base class to create data schema for validation\n",
        "class CreditApplication(BaseModel):\n",
        "    Country : object\n",
        "    Year : object\n",
        "    GDP_Growth : float\n",
        "    CO2_Emission_Metrics_per_capita : float\n",
        "    Electricity_access : float\n",
        "    Urban_population : float\n",
        "    Population_growth : float\n",
        "    Urban_population_growth_annual : float\n",
        "    Live_stock_production : float\n",
        "    Forest_area : float\n",
        "    Renewable_energy_use : float\n",
        "    Energy_use_kg_of_oil_per_capita : float\n",
        "    Population_total : float"
      ],
      "metadata": {
        "id": "hCzVn4PaqLBl"
      },
      "id": "hCzVn4PaqLBl",
      "execution_count": 26,
      "outputs": []
    },
    {
      "cell_type": "code",
      "source": [
        "from bentoml.io import JSON"
      ],
      "metadata": {
        "id": "OXhpm1cRuOk4"
      },
      "id": "OXhpm1cRuOk4",
      "execution_count": 27,
      "outputs": []
    },
    {
      "cell_type": "code",
      "source": [
        "'''model_runner = bentoml.sklearn.get(\"co2_emission_model:latest\").to_runner()\n",
        "\n",
        "svc = bentoml.Service(\"co2_emission_classifier\", runners=[model_runner])\n",
        "\n",
        "@svc.api(input=JSON(pydantic_model=CreditApplication), output=JSON()) # decorate endpoint as in json format for input and output\n",
        "def classify(credit_application):\n",
        "    # transform pydantic class to dict to extract key-value pairs \n",
        "    application = credit_application.dict()\n",
        "    # transform data from client using dictvectorizer\n",
        "    vector = dv.transform(application)\n",
        "    # make predictions using 'runner.predict.run(input)' instead of 'model.predict'\n",
        "    prediction = model_runner.predict.run(vector) '''"
      ],
      "metadata": {
        "id": "HaoA0x1nrqXv",
        "colab": {
          "base_uri": "https://localhost:8080/",
          "height": 88
        },
        "outputId": "ced35e22-b5c7-4b15-c3f6-9f6d80ad55ad"
      },
      "id": "HaoA0x1nrqXv",
      "execution_count": 28,
      "outputs": [
        {
          "output_type": "execute_result",
          "data": {
            "text/plain": [
              "'model_runner = bentoml.sklearn.get(\"co2_emission_model:latest\").to_runner()\\n\\nsvc = bentoml.Service(\"co2_emission_classifier\", runners=[model_runner])\\n\\n@svc.api(input=JSON(pydantic_model=CreditApplication), output=JSON()) # decorate endpoint as in json format for input and output\\ndef classify(credit_application):\\n    # transform pydantic class to dict to extract key-value pairs \\n    application = credit_application.dict()\\n    # transform data from client using dictvectorizer\\n    vector = dv.transform(application)\\n    # make predictions using \\'runner.predict.run(input)\\' instead of \\'model.predict\\'\\n    prediction = model_runner.predict.run(vector) '"
            ],
            "application/vnd.google.colaboratory.intrinsic+json": {
              "type": "string"
            }
          },
          "metadata": {},
          "execution_count": 28
        }
      ]
    },
    {
      "cell_type": "code",
      "execution_count": 29,
      "id": "b7cab8b2",
      "metadata": {
        "id": "b7cab8b2",
        "colab": {
          "base_uri": "https://localhost:8080/"
        },
        "outputId": "e6c1b6ca-f7e8-4ef1-978b-4912ac4e565b"
      },
      "outputs": [
        {
          "output_type": "stream",
          "name": "stdout",
          "text": [
            "Building BentoML service \"co2_emission_classifier:hjdazltamgbh4asc\" from build context \"/content\".\n",
            "Packing model \"co2_emission_model:e34hlcdamgvnuasc\"\n",
            "Locking PyPI package versions.\n",
            "\u001b[2K       \u001b[90m━━━━━━━━━━━━━━━━━━━━━━━━━━━━━━━━━━━━━━\u001b[0m \u001b[32m24.8/24.8 MB\u001b[0m \u001b[31m46.5 MB/s\u001b[0m eta \u001b[36m0:00:00\u001b[0m\n",
            "\u001b[2K       \u001b[90m━━━━━━━━━━━━━━━━━━━━━━━━━━━━━━━━━━━━━━\u001b[0m \u001b[32m11.3/11.3 MB\u001b[0m \u001b[31m82.9 MB/s\u001b[0m eta \u001b[36m0:00:00\u001b[0m\n",
            "\u001b[2K       \u001b[90m━━━━━━━━━━━━━━━━━━━━━━━━━━━━━━━━━━━━\u001b[0m \u001b[32m298.0/298.0 kB\u001b[0m \u001b[31m21.6 MB/s\u001b[0m eta \u001b[36m0:00:00\u001b[0m\n",
            "\u001b[2K       \u001b[90m━━━━━━━━━━━━━━━━━━━━━━━━━━━━━━━━━━━━\u001b[0m \u001b[32m498.1/498.1 kB\u001b[0m \u001b[31m31.5 MB/s\u001b[0m eta \u001b[36m0:00:00\u001b[0m\n",
            "\u001b[2K       \u001b[90m━━━━━━━━━━━━━━━━━━━━━━━━━━━━━━━━━━━━━━\u001b[0m \u001b[32m15.7/15.7 MB\u001b[0m \u001b[31m43.5 MB/s\u001b[0m eta \u001b[36m0:00:00\u001b[0m\n",
            "\u001b[2K       \u001b[90m━━━━━━━━━━━━━━━━━━━━━━━━━━━━━━━━━━━━\u001b[0m \u001b[32m247.7/247.7 kB\u001b[0m \u001b[31m19.8 MB/s\u001b[0m eta \u001b[36m0:00:00\u001b[0m\n",
            "\u001b[2K       \u001b[90m━━━━━━━━━━━━━━━━━━━━━━━━━━━━━━━━━━━━━━\u001b[0m \u001b[32m38.1/38.1 MB\u001b[0m \u001b[31m25.8 MB/s\u001b[0m eta \u001b[36m0:00:00\u001b[0m\n",
            "\u001b[?25h\n",
            "██████╗░███████╗███╗░░██╗████████╗░█████╗░███╗░░░███╗██╗░░░░░\n",
            "██╔══██╗██╔════╝████╗░██║╚══██╔══╝██╔══██╗████╗░████║██║░░░░░\n",
            "██████╦╝█████╗░░██╔██╗██║░░░██║░░░██║░░██║██╔████╔██║██║░░░░░\n",
            "██╔══██╗██╔══╝░░██║╚████║░░░██║░░░██║░░██║██║╚██╔╝██║██║░░░░░\n",
            "██████╦╝███████╗██║░╚███║░░░██║░░░╚█████╔╝██║░╚═╝░██║███████╗\n",
            "╚═════╝░╚══════╝╚═╝░░╚══╝░░░╚═╝░░░░╚════╝░╚═╝░░░░░╚═╝╚══════╝\n",
            "\n",
            "Successfully built Bento(tag=\"co2_emission_classifier:hjdazltamgbh4asc\").\n"
          ]
        }
      ],
      "source": [
        "!bentoml build"
      ]
    },
    {
      "cell_type": "markdown",
      "id": "81ed8b84",
      "metadata": {
        "id": "81ed8b84"
      },
      "source": [
        "## Containerize and Deployment"
      ]
    },
    {
      "cell_type": "code",
      "source": [
        "!sudo apt install apt-transport-https ca-certificates curl software-properties-common -qq"
      ],
      "metadata": {
        "id": "fXGG1IsmlLTx",
        "colab": {
          "base_uri": "https://localhost:8080/"
        },
        "outputId": "c10c8863-d915-4e41-fbea-acfd94bed573"
      },
      "id": "fXGG1IsmlLTx",
      "execution_count": 30,
      "outputs": [
        {
          "output_type": "stream",
          "name": "stdout",
          "text": [
            "ca-certificates is already the newest version (20211016~18.04.1).\n",
            "curl is already the newest version (7.58.0-2ubuntu3.21).\n",
            "software-properties-common is already the newest version (0.96.24.32.18).\n",
            "The following package was automatically installed and is no longer required:\n",
            "  libnvidia-common-460\n",
            "Use 'sudo apt autoremove' to remove it.\n",
            "The following NEW packages will be installed:\n",
            "  apt-transport-https\n",
            "0 upgraded, 1 newly installed, 0 to remove and 5 not upgraded.\n",
            "Need to get 4,348 B of archives.\n",
            "After this operation, 154 kB of additional disk space will be used.\n",
            "debconf: unable to initialize frontend: Dialog\n",
            "debconf: (No usable dialog-like program is installed, so the dialog based frontend cannot be used. at /usr/share/perl5/Debconf/FrontEnd/Dialog.pm line 76, <> line 1.)\n",
            "debconf: falling back to frontend: Readline\n",
            "debconf: unable to initialize frontend: Readline\n",
            "debconf: (This frontend requires a controlling tty.)\n",
            "debconf: falling back to frontend: Teletype\n",
            "dpkg-preconfigure: unable to re-open stdin: \n",
            "Selecting previously unselected package apt-transport-https.\n",
            "(Reading database ... 123941 files and directories currently installed.)\n",
            "Preparing to unpack .../apt-transport-https_1.6.14_all.deb ...\n",
            "Unpacking apt-transport-https (1.6.14) ...\n",
            "Setting up apt-transport-https (1.6.14) ...\n"
          ]
        }
      ]
    },
    {
      "cell_type": "code",
      "source": [
        "!curl -fsSL https://download.docker.com/linux/ubuntu/gpg | sudo apt-key add -"
      ],
      "metadata": {
        "id": "xTm76V68mnrw",
        "colab": {
          "base_uri": "https://localhost:8080/"
        },
        "outputId": "2548c20b-c577-4a9b-8f93-dec1f9ce0b21"
      },
      "id": "xTm76V68mnrw",
      "execution_count": 31,
      "outputs": [
        {
          "output_type": "stream",
          "name": "stdout",
          "text": [
            "OK\n"
          ]
        }
      ]
    },
    {
      "cell_type": "code",
      "source": [
        "!sudo add-apt-repository \"deb [arch=amd64] https://download.docker.com/linux/ubuntu bionic stable\""
      ],
      "metadata": {
        "id": "VFErjAVXmqRO",
        "colab": {
          "base_uri": "https://localhost:8080/"
        },
        "outputId": "af34437f-4c47-404d-d391-04cf47d71a8b"
      },
      "id": "VFErjAVXmqRO",
      "execution_count": 32,
      "outputs": [
        {
          "output_type": "stream",
          "name": "stdout",
          "text": [
            "\r0% [Working]\r            \rHit:1 http://archive.ubuntu.com/ubuntu bionic InRelease\n",
            "\r0% [Waiting for headers] [Waiting for headers] [Connected to cloud.r-project.or\r0% [1 InRelease gpgv 242 kB] [Waiting for headers] [Waiting for headers] [Conne\r                                                                               \rGet:2 http://archive.ubuntu.com/ubuntu bionic-updates InRelease [88.7 kB]\n",
            "\r0% [1 InRelease gpgv 242 kB] [2 InRelease 14.2 kB/88.7 kB 16%] [Waiting for hea\r                                                                               \rGet:3 https://download.docker.com/linux/ubuntu bionic InRelease [64.4 kB]\n",
            "\r0% [1 InRelease gpgv 242 kB] [2 InRelease 15.6 kB/88.7 kB 18%] [Waiting for hea\r                                                                               \rGet:4 https://cloud.r-project.org/bin/linux/ubuntu bionic-cran40/ InRelease [3,626 B]\n",
            "\r0% [1 InRelease gpgv 242 kB] [2 InRelease 15.6 kB/88.7 kB 18%] [Waiting for hea\r0% [1 InRelease gpgv 242 kB] [2 InRelease 15.6 kB/88.7 kB 18%] [Waiting for hea\r                                                                               \rGet:5 http://security.ubuntu.com/ubuntu bionic-security InRelease [88.7 kB]\n",
            "\r0% [1 InRelease gpgv 242 kB] [2 InRelease 15.6 kB/88.7 kB 18%] [5 InRelease 14.\r0% [1 InRelease gpgv 242 kB] [2 InRelease 30.1 kB/88.7 kB 34%] [5 InRelease 14.\r0% [1 InRelease gpgv 242 kB] [Waiting for headers] [5 InRelease 46.0 kB/88.7 kB\r                                                                               \rIgn:6 https://developer.download.nvidia.com/compute/machine-learning/repos/ubuntu1804/x86_64  InRelease\n",
            "\r0% [1 InRelease gpgv 242 kB] [Waiting for headers] [5 InRelease 60.5 kB/88.7 kB\r                                                                               \rHit:7 https://developer.download.nvidia.com/compute/cuda/repos/ubuntu1804/x86_64  InRelease\n",
            "\r0% [1 InRelease gpgv 242 kB] [Waiting for headers] [5 InRelease 83.7 kB/88.7 kB\r                                                                               \rGet:8 http://archive.ubuntu.com/ubuntu bionic-backports InRelease [83.3 kB]\n",
            "Hit:9 https://developer.download.nvidia.com/compute/machine-learning/repos/ubuntu1804/x86_64  Release\n",
            "Hit:10 http://ppa.launchpad.net/c2d4u.team/c2d4u4.0+/ubuntu bionic InRelease\n",
            "Hit:11 http://ppa.launchpad.net/cran/libgit2/ubuntu bionic InRelease\n",
            "Get:12 https://download.docker.com/linux/ubuntu bionic/stable amd64 Packages [34.3 kB]\n",
            "Hit:13 http://ppa.launchpad.net/deadsnakes/ppa/ubuntu bionic InRelease\n",
            "Get:14 http://archive.ubuntu.com/ubuntu bionic-updates/main amd64 Packages [3,472 kB]\n",
            "Hit:15 http://ppa.launchpad.net/graphics-drivers/ppa/ubuntu bionic InRelease\n",
            "Get:16 http://security.ubuntu.com/ubuntu bionic-security/main amd64 Packages [3,040 kB]\n",
            "Get:17 http://archive.ubuntu.com/ubuntu bionic-updates/universe amd64 Packages [2,332 kB]\n",
            "Get:19 http://security.ubuntu.com/ubuntu bionic-security/restricted amd64 Packages [1,226 kB]\n",
            "Get:20 http://security.ubuntu.com/ubuntu bionic-security/multiverse amd64 Packages [30.1 kB]\n",
            "Get:21 http://security.ubuntu.com/ubuntu bionic-security/universe amd64 Packages [1,554 kB]\n",
            "Fetched 12.0 MB in 2s (5,043 kB/s)\n",
            "Reading package lists... Done\n"
          ]
        }
      ]
    },
    {
      "cell_type": "code",
      "source": [
        "!sudo apt install docker-ce"
      ],
      "metadata": {
        "id": "-9tVt1WamwdN",
        "colab": {
          "base_uri": "https://localhost:8080/"
        },
        "outputId": "58934db2-f0cc-4fa9-b651-919340b1e535"
      },
      "id": "-9tVt1WamwdN",
      "execution_count": null,
      "outputs": [
        {
          "output_type": "stream",
          "name": "stdout",
          "text": [
            "Reading package lists... Done\n",
            "Building dependency tree       \n",
            "Reading state information... Done\n",
            "The following package was automatically installed and is no longer required:\n",
            "  libnvidia-common-460\n",
            "Use 'sudo apt autoremove' to remove it.\n",
            "The following additional packages will be installed:\n",
            "  apparmor containerd.io dbus-user-session docker-ce-cli\n",
            "  docker-ce-rootless-extras docker-scan-plugin iptables libip6tc0 libiptc0\n",
            "  libnetfilter-conntrack3 libnfnetlink0 libxtables12 pigz\n",
            "Suggested packages:\n",
            "  apparmor-profiles-extra apparmor-utils aufs-tools cgroupfs-mount\n",
            "  | cgroup-lite\n",
            "Recommended packages:\n",
            "  slirp4netns\n",
            "The following NEW packages will be installed:\n",
            "  apparmor containerd.io dbus-user-session docker-ce docker-ce-cli\n",
            "  docker-ce-rootless-extras docker-scan-plugin iptables libip6tc0 libiptc0\n",
            "  libnetfilter-conntrack3 libnfnetlink0 libxtables12 pigz\n",
            "0 upgraded, 14 newly installed, 0 to remove and 8 not upgraded.\n",
            "Need to get 103 MB of archives.\n",
            "After this operation, 387 MB of additional disk space will be used.\n",
            "Get:1 http://archive.ubuntu.com/ubuntu bionic/main amd64 libnfnetlink0 amd64 1.0.1-3 [13.3 kB]\n",
            "Get:2 http://archive.ubuntu.com/ubuntu bionic/universe amd64 pigz amd64 2.4-1 [57.4 kB]\n",
            "Get:3 https://download.docker.com/linux/ubuntu bionic/stable amd64 containerd.io amd64 1.6.9-1 [27.7 MB]\n",
            "Get:4 http://archive.ubuntu.com/ubuntu bionic/main amd64 libxtables12 amd64 1.6.1-2ubuntu2 [27.9 kB]\n",
            "Get:5 http://archive.ubuntu.com/ubuntu bionic-updates/main amd64 apparmor amd64 2.12-4ubuntu5.1 [487 kB]\n",
            "Get:6 http://archive.ubuntu.com/ubuntu bionic/main amd64 libip6tc0 amd64 1.6.1-2ubuntu2 [19.9 kB]\n",
            "Get:7 http://archive.ubuntu.com/ubuntu bionic/main amd64 libiptc0 amd64 1.6.1-2ubuntu2 [9,308 B]\n",
            "Get:8 http://archive.ubuntu.com/ubuntu bionic/main amd64 libnetfilter-conntrack3 amd64 1.0.6-2 [37.8 kB]\n",
            "Get:9 http://archive.ubuntu.com/ubuntu bionic/main amd64 iptables amd64 1.6.1-2ubuntu2 [269 kB]\n",
            "Get:10 http://archive.ubuntu.com/ubuntu bionic-updates/main amd64 dbus-user-session amd64 1.12.2-1ubuntu1.4 [9,388 B]\n",
            "Get:11 https://download.docker.com/linux/ubuntu bionic/stable amd64 docker-ce-cli amd64 5:20.10.21~3-0~ubuntu-bionic [41.5 MB]\n",
            "Get:12 https://download.docker.com/linux/ubuntu bionic/stable amd64 docker-ce amd64 5:20.10.21~3-0~ubuntu-bionic [20.5 MB]\n",
            "Get:13 https://download.docker.com/linux/ubuntu bionic/stable amd64 docker-ce-rootless-extras amd64 5:20.10.21~3-0~ubuntu-bionic [8,391 kB]\n",
            "Get:14 https://download.docker.com/linux/ubuntu bionic/stable amd64 docker-scan-plugin amd64 0.21.0~ubuntu-bionic [3,622 kB]\n",
            "Fetched 103 MB in 4s (24.2 MB/s)\n",
            "debconf: unable to initialize frontend: Dialog\n",
            "debconf: (No usable dialog-like program is installed, so the dialog based frontend cannot be used. at /usr/share/perl5/Debconf/FrontEnd/Dialog.pm line 76, <> line 14.)\n",
            "debconf: falling back to frontend: Readline\n",
            "debconf: unable to initialize frontend: Readline\n",
            "debconf: (This frontend requires a controlling tty.)\n",
            "debconf: falling back to frontend: Teletype\n",
            "dpkg-preconfigure: unable to re-open stdin: \n",
            "Selecting previously unselected package libnfnetlink0:amd64.\n",
            "(Reading database ... 123945 files and directories currently installed.)\n",
            "Preparing to unpack .../00-libnfnetlink0_1.0.1-3_amd64.deb ...\n",
            "Unpacking libnfnetlink0:amd64 (1.0.1-3) ...\n",
            "Selecting previously unselected package pigz.\n",
            "Preparing to unpack .../01-pigz_2.4-1_amd64.deb ...\n",
            "Unpacking pigz (2.4-1) ...\n",
            "Selecting previously unselected package libxtables12:amd64.\n",
            "Preparing to unpack .../02-libxtables12_1.6.1-2ubuntu2_amd64.deb ...\n",
            "Unpacking libxtables12:amd64 (1.6.1-2ubuntu2) ...\n",
            "Selecting previously unselected package apparmor.\n",
            "Preparing to unpack .../03-apparmor_2.12-4ubuntu5.1_amd64.deb ...\n",
            "Unpacking apparmor (2.12-4ubuntu5.1) ...\n",
            "Selecting previously unselected package libip6tc0:amd64.\n",
            "Preparing to unpack .../04-libip6tc0_1.6.1-2ubuntu2_amd64.deb ...\n",
            "Unpacking libip6tc0:amd64 (1.6.1-2ubuntu2) ...\n",
            "Selecting previously unselected package libiptc0:amd64.\n",
            "Preparing to unpack .../05-libiptc0_1.6.1-2ubuntu2_amd64.deb ...\n",
            "Unpacking libiptc0:amd64 (1.6.1-2ubuntu2) ...\n",
            "Selecting previously unselected package libnetfilter-conntrack3:amd64.\n",
            "Preparing to unpack .../06-libnetfilter-conntrack3_1.0.6-2_amd64.deb ...\n",
            "Unpacking libnetfilter-conntrack3:amd64 (1.0.6-2) ...\n",
            "Selecting previously unselected package iptables.\n",
            "Preparing to unpack .../07-iptables_1.6.1-2ubuntu2_amd64.deb ...\n",
            "Unpacking iptables (1.6.1-2ubuntu2) ...\n",
            "Selecting previously unselected package containerd.io.\n",
            "Preparing to unpack .../08-containerd.io_1.6.9-1_amd64.deb ...\n",
            "Unpacking containerd.io (1.6.9-1) ...\n",
            "Selecting previously unselected package dbus-user-session.\n",
            "Preparing to unpack .../09-dbus-user-session_1.12.2-1ubuntu1.4_amd64.deb ...\n",
            "Unpacking dbus-user-session (1.12.2-1ubuntu1.4) ...\n",
            "Selecting previously unselected package docker-ce-cli.\n",
            "Preparing to unpack .../10-docker-ce-cli_5%3a20.10.21~3-0~ubuntu-bionic_amd64.deb ...\n",
            "Unpacking docker-ce-cli (5:20.10.21~3-0~ubuntu-bionic) ...\n",
            "Selecting previously unselected package docker-ce.\n",
            "Preparing to unpack .../11-docker-ce_5%3a20.10.21~3-0~ubuntu-bionic_amd64.deb ...\n",
            "Unpacking docker-ce (5:20.10.21~3-0~ubuntu-bionic) ...\n",
            "Selecting previously unselected package docker-ce-rootless-extras.\n",
            "Preparing to unpack .../12-docker-ce-rootless-extras_5%3a20.10.21~3-0~ubuntu-bionic_amd64.deb ...\n",
            "Unpacking docker-ce-rootless-extras (5:20.10.21~3-0~ubuntu-bionic) ...\n",
            "Selecting previously unselected package docker-scan-plugin.\n",
            "Preparing to unpack .../13-docker-scan-plugin_0.21.0~ubuntu-bionic_amd64.deb ...\n",
            "Unpacking docker-scan-plugin (0.21.0~ubuntu-bionic) ...\n",
            "Setting up containerd.io (1.6.9-1) ...\n",
            "Created symlink /etc/systemd/system/multi-user.target.wants/containerd.service → /lib/systemd/system/containerd.service.\n",
            "Setting up docker-scan-plugin (0.21.0~ubuntu-bionic) ...\n",
            "Setting up libiptc0:amd64 (1.6.1-2ubuntu2) ...\n",
            "Setting up apparmor (2.12-4ubuntu5.1) ...\n",
            "debconf: unable to initialize frontend: Dialog\n",
            "debconf: (No usable dialog-like program is installed, so the dialog based frontend cannot be used. at /usr/share/perl5/Debconf/FrontEnd/Dialog.pm line 76.)\n",
            "debconf: falling back to frontend: Readline\n",
            "Created symlink /etc/systemd/system/sysinit.target.wants/apparmor.service → /lib/systemd/system/apparmor.service.\n",
            "Setting up dbus-user-session (1.12.2-1ubuntu1.4) ...\n",
            "Setting up libxtables12:amd64 (1.6.1-2ubuntu2) ...\n",
            "Setting up libnfnetlink0:amd64 (1.0.1-3) ...\n",
            "Setting up docker-ce-cli (5:20.10.21~3-0~ubuntu-bionic) ...\n",
            "Setting up pigz (2.4-1) ...\n",
            "Setting up libip6tc0:amd64 (1.6.1-2ubuntu2) ...\n",
            "Setting up libnetfilter-conntrack3:amd64 (1.0.6-2) ...\n"
          ]
        }
      ]
    },
    {
      "cell_type": "code",
      "source": [
        "!docker"
      ],
      "metadata": {
        "id": "QET_THawo2y2"
      },
      "id": "QET_THawo2y2",
      "execution_count": null,
      "outputs": []
    },
    {
      "cell_type": "code",
      "source": [
        "!bentoml containerize co2_emission_model:latest"
      ],
      "metadata": {
        "id": "qPlk4JZ4m9AS"
      },
      "id": "qPlk4JZ4m9AS",
      "execution_count": null,
      "outputs": []
    },
    {
      "cell_type": "code",
      "source": [
        "!docker run -p 3000:3000 co2_emission_model:3yult2takw6cwasc"
      ],
      "metadata": {
        "id": "lzcrHDpinCrk"
      },
      "id": "lzcrHDpinCrk",
      "execution_count": null,
      "outputs": []
    }
  ],
  "metadata": {
    "kernelspec": {
      "display_name": "Python 3 (ipykernel)",
      "language": "python",
      "name": "python3"
    },
    "language_info": {
      "codemirror_mode": {
        "name": "ipython",
        "version": 3
      },
      "file_extension": ".py",
      "mimetype": "text/x-python",
      "name": "python",
      "nbconvert_exporter": "python",
      "pygments_lexer": "ipython3",
      "version": "3.8.12"
    },
    "colab": {
      "provenance": []
    }
  },
  "nbformat": 4,
  "nbformat_minor": 5
}