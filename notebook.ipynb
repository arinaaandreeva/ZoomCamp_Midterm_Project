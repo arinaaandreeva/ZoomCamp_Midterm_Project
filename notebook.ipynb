{
  "nbformat": 4,
  "nbformat_minor": 0,
  "metadata": {
    "colab": {
      "provenance": []
    },
    "kernelspec": {
      "name": "python3",
      "display_name": "Python 3"
    },
    "language_info": {
      "name": "python"
    }
  },
  "cells": [
    {
      "cell_type": "code",
      "source": [
        "import pandas as pd\n",
        "import numpy as np"
      ],
      "metadata": {
        "id": "Ip4B8TQdhYOg"
      },
      "execution_count": null,
      "outputs": []
    },
    {
      "cell_type": "code",
      "source": [
        "df1 = pd.read_csv('https://raw.githubusercontent.com/arinaaandreeva/Datasets/main/CO2_emission_2008_13.csv')\n",
        "df2 = pd.read_csv('https://raw.githubusercontent.com/arinaaandreeva/Datasets/main/CO2_emission_2014.csv')\n",
        "df = pd.concat([df1, df2], axis=0)\n",
        "print(df1.shape, df2.shape, df.shape)"
      ],
      "metadata": {
        "colab": {
          "base_uri": "https://localhost:8080/"
        },
        "id": "cBAD2ttHjMg0",
        "outputId": "26a1a3bd-b2cd-47ad-8b9e-ad5a3917546a"
      },
      "execution_count": null,
      "outputs": [
        {
          "output_type": "stream",
          "name": "stdout",
          "text": [
            "(1584, 13) (264, 13) (1848, 13)\n"
          ]
        }
      ]
    },
    {
      "cell_type": "markdown",
      "source": [
        "##EDA"
      ],
      "metadata": {
        "id": "tdAQr9-o5W8u"
      }
    },
    {
      "cell_type": "markdown",
      "source": [
        "The target value is CO2 emission per capita. So the model will predict emission indicator based on indicators from different countries."
      ],
      "metadata": {
        "id": "O8DlWUYzmgsR"
      }
    },
    {
      "cell_type": "code",
      "source": [
        "df.columns = df.columns.str.lower().str.replace(' ', '_')"
      ],
      "metadata": {
        "id": "Hc_zxUSrkiPD"
      },
      "execution_count": null,
      "outputs": []
    },
    {
      "cell_type": "code",
      "source": [
        "df.head()"
      ],
      "metadata": {
        "colab": {
          "base_uri": "https://localhost:8080/",
          "height": 287
        },
        "id": "XC6XQ9635r4w",
        "outputId": "1ad54c75-25c5-49ac-8b0d-84d02794bf80"
      },
      "execution_count": null,
      "outputs": [
        {
          "output_type": "execute_result",
          "data": {
            "text/plain": [
              "          country  year gdp_growth co2_emission_metrics_per_capita  \\\n",
              "0     Afghanistan  2008        3.9                             0.2   \n",
              "1         Albania  2008        7.5                             1.5   \n",
              "2         Algeria  2008        2.4                             3.2   \n",
              "3  American Samoa  2008       -2.6                              ..   \n",
              "4         Andorra  2008       -5.6                             6.4   \n",
              "\n",
              "  electricity_access urban_population population_growth  \\\n",
              "0               42.4             23.3               2.3   \n",
              "1                 ..               50              -0.8   \n",
              "2                 ..             66.1               1.6   \n",
              "3                 ..             87.8              -1.5   \n",
              "4                100               89               1.4   \n",
              "\n",
              "  urban_population_growth_annual live_stock_production forest_area  \\\n",
              "0                            3.2                  90.9         1.9   \n",
              "1                            1.4                  87.3        28.4   \n",
              "2                            2.8                  68.9         0.8   \n",
              "3                           -1.6                  99.6        87.5   \n",
              "4                            1.1                    ..          34   \n",
              "\n",
              "  renewable_energy_use energy_use_kg_of_oil_per_capita population_total  \n",
              "0                 21.3                              ..   2,77,22,276.00  \n",
              "1                 35.9                           710.7     29,47,314.00  \n",
              "2                  0.3                        1,073.20   3,47,30,608.00  \n",
              "3                    0                              ..        57,492.00  \n",
              "4                 17.4                              ..        83,862.00  "
            ],
            "text/html": [
              "\n",
              "  <div id=\"df-6689c955-4f22-40bc-9fde-008d1c62d7a5\">\n",
              "    <div class=\"colab-df-container\">\n",
              "      <div>\n",
              "<style scoped>\n",
              "    .dataframe tbody tr th:only-of-type {\n",
              "        vertical-align: middle;\n",
              "    }\n",
              "\n",
              "    .dataframe tbody tr th {\n",
              "        vertical-align: top;\n",
              "    }\n",
              "\n",
              "    .dataframe thead th {\n",
              "        text-align: right;\n",
              "    }\n",
              "</style>\n",
              "<table border=\"1\" class=\"dataframe\">\n",
              "  <thead>\n",
              "    <tr style=\"text-align: right;\">\n",
              "      <th></th>\n",
              "      <th>country</th>\n",
              "      <th>year</th>\n",
              "      <th>gdp_growth</th>\n",
              "      <th>co2_emission_metrics_per_capita</th>\n",
              "      <th>electricity_access</th>\n",
              "      <th>urban_population</th>\n",
              "      <th>population_growth</th>\n",
              "      <th>urban_population_growth_annual</th>\n",
              "      <th>live_stock_production</th>\n",
              "      <th>forest_area</th>\n",
              "      <th>renewable_energy_use</th>\n",
              "      <th>energy_use_kg_of_oil_per_capita</th>\n",
              "      <th>population_total</th>\n",
              "    </tr>\n",
              "  </thead>\n",
              "  <tbody>\n",
              "    <tr>\n",
              "      <th>0</th>\n",
              "      <td>Afghanistan</td>\n",
              "      <td>2008</td>\n",
              "      <td>3.9</td>\n",
              "      <td>0.2</td>\n",
              "      <td>42.4</td>\n",
              "      <td>23.3</td>\n",
              "      <td>2.3</td>\n",
              "      <td>3.2</td>\n",
              "      <td>90.9</td>\n",
              "      <td>1.9</td>\n",
              "      <td>21.3</td>\n",
              "      <td>..</td>\n",
              "      <td>2,77,22,276.00</td>\n",
              "    </tr>\n",
              "    <tr>\n",
              "      <th>1</th>\n",
              "      <td>Albania</td>\n",
              "      <td>2008</td>\n",
              "      <td>7.5</td>\n",
              "      <td>1.5</td>\n",
              "      <td>..</td>\n",
              "      <td>50</td>\n",
              "      <td>-0.8</td>\n",
              "      <td>1.4</td>\n",
              "      <td>87.3</td>\n",
              "      <td>28.4</td>\n",
              "      <td>35.9</td>\n",
              "      <td>710.7</td>\n",
              "      <td>29,47,314.00</td>\n",
              "    </tr>\n",
              "    <tr>\n",
              "      <th>2</th>\n",
              "      <td>Algeria</td>\n",
              "      <td>2008</td>\n",
              "      <td>2.4</td>\n",
              "      <td>3.2</td>\n",
              "      <td>..</td>\n",
              "      <td>66.1</td>\n",
              "      <td>1.6</td>\n",
              "      <td>2.8</td>\n",
              "      <td>68.9</td>\n",
              "      <td>0.8</td>\n",
              "      <td>0.3</td>\n",
              "      <td>1,073.20</td>\n",
              "      <td>3,47,30,608.00</td>\n",
              "    </tr>\n",
              "    <tr>\n",
              "      <th>3</th>\n",
              "      <td>American Samoa</td>\n",
              "      <td>2008</td>\n",
              "      <td>-2.6</td>\n",
              "      <td>..</td>\n",
              "      <td>..</td>\n",
              "      <td>87.8</td>\n",
              "      <td>-1.5</td>\n",
              "      <td>-1.6</td>\n",
              "      <td>99.6</td>\n",
              "      <td>87.5</td>\n",
              "      <td>0</td>\n",
              "      <td>..</td>\n",
              "      <td>57,492.00</td>\n",
              "    </tr>\n",
              "    <tr>\n",
              "      <th>4</th>\n",
              "      <td>Andorra</td>\n",
              "      <td>2008</td>\n",
              "      <td>-5.6</td>\n",
              "      <td>6.4</td>\n",
              "      <td>100</td>\n",
              "      <td>89</td>\n",
              "      <td>1.4</td>\n",
              "      <td>1.1</td>\n",
              "      <td>..</td>\n",
              "      <td>34</td>\n",
              "      <td>17.4</td>\n",
              "      <td>..</td>\n",
              "      <td>83,862.00</td>\n",
              "    </tr>\n",
              "  </tbody>\n",
              "</table>\n",
              "</div>\n",
              "      <button class=\"colab-df-convert\" onclick=\"convertToInteractive('df-6689c955-4f22-40bc-9fde-008d1c62d7a5')\"\n",
              "              title=\"Convert this dataframe to an interactive table.\"\n",
              "              style=\"display:none;\">\n",
              "        \n",
              "  <svg xmlns=\"http://www.w3.org/2000/svg\" height=\"24px\"viewBox=\"0 0 24 24\"\n",
              "       width=\"24px\">\n",
              "    <path d=\"M0 0h24v24H0V0z\" fill=\"none\"/>\n",
              "    <path d=\"M18.56 5.44l.94 2.06.94-2.06 2.06-.94-2.06-.94-.94-2.06-.94 2.06-2.06.94zm-11 1L8.5 8.5l.94-2.06 2.06-.94-2.06-.94L8.5 2.5l-.94 2.06-2.06.94zm10 10l.94 2.06.94-2.06 2.06-.94-2.06-.94-.94-2.06-.94 2.06-2.06.94z\"/><path d=\"M17.41 7.96l-1.37-1.37c-.4-.4-.92-.59-1.43-.59-.52 0-1.04.2-1.43.59L10.3 9.45l-7.72 7.72c-.78.78-.78 2.05 0 2.83L4 21.41c.39.39.9.59 1.41.59.51 0 1.02-.2 1.41-.59l7.78-7.78 2.81-2.81c.8-.78.8-2.07 0-2.86zM5.41 20L4 18.59l7.72-7.72 1.47 1.35L5.41 20z\"/>\n",
              "  </svg>\n",
              "      </button>\n",
              "      \n",
              "  <style>\n",
              "    .colab-df-container {\n",
              "      display:flex;\n",
              "      flex-wrap:wrap;\n",
              "      gap: 12px;\n",
              "    }\n",
              "\n",
              "    .colab-df-convert {\n",
              "      background-color: #E8F0FE;\n",
              "      border: none;\n",
              "      border-radius: 50%;\n",
              "      cursor: pointer;\n",
              "      display: none;\n",
              "      fill: #1967D2;\n",
              "      height: 32px;\n",
              "      padding: 0 0 0 0;\n",
              "      width: 32px;\n",
              "    }\n",
              "\n",
              "    .colab-df-convert:hover {\n",
              "      background-color: #E2EBFA;\n",
              "      box-shadow: 0px 1px 2px rgba(60, 64, 67, 0.3), 0px 1px 3px 1px rgba(60, 64, 67, 0.15);\n",
              "      fill: #174EA6;\n",
              "    }\n",
              "\n",
              "    [theme=dark] .colab-df-convert {\n",
              "      background-color: #3B4455;\n",
              "      fill: #D2E3FC;\n",
              "    }\n",
              "\n",
              "    [theme=dark] .colab-df-convert:hover {\n",
              "      background-color: #434B5C;\n",
              "      box-shadow: 0px 1px 3px 1px rgba(0, 0, 0, 0.15);\n",
              "      filter: drop-shadow(0px 1px 2px rgba(0, 0, 0, 0.3));\n",
              "      fill: #FFFFFF;\n",
              "    }\n",
              "  </style>\n",
              "\n",
              "      <script>\n",
              "        const buttonEl =\n",
              "          document.querySelector('#df-6689c955-4f22-40bc-9fde-008d1c62d7a5 button.colab-df-convert');\n",
              "        buttonEl.style.display =\n",
              "          google.colab.kernel.accessAllowed ? 'block' : 'none';\n",
              "\n",
              "        async function convertToInteractive(key) {\n",
              "          const element = document.querySelector('#df-6689c955-4f22-40bc-9fde-008d1c62d7a5');\n",
              "          const dataTable =\n",
              "            await google.colab.kernel.invokeFunction('convertToInteractive',\n",
              "                                                     [key], {});\n",
              "          if (!dataTable) return;\n",
              "\n",
              "          const docLinkHtml = 'Like what you see? Visit the ' +\n",
              "            '<a target=\"_blank\" href=https://colab.research.google.com/notebooks/data_table.ipynb>data table notebook</a>'\n",
              "            + ' to learn more about interactive tables.';\n",
              "          element.innerHTML = '';\n",
              "          dataTable['output_type'] = 'display_data';\n",
              "          await google.colab.output.renderOutput(dataTable, element);\n",
              "          const docLink = document.createElement('div');\n",
              "          docLink.innerHTML = docLinkHtml;\n",
              "          element.appendChild(docLink);\n",
              "        }\n",
              "      </script>\n",
              "    </div>\n",
              "  </div>\n",
              "  "
            ]
          },
          "metadata": {},
          "execution_count": 316
        }
      ]
    },
    {
      "cell_type": "code",
      "source": [
        "df.dtypes"
      ],
      "metadata": {
        "colab": {
          "base_uri": "https://localhost:8080/"
        },
        "id": "q36CrOjxkiKI",
        "outputId": "58f49fbe-79cf-4de2-a72f-e3463b7d0f39"
      },
      "execution_count": null,
      "outputs": [
        {
          "output_type": "execute_result",
          "data": {
            "text/plain": [
              "country                            object\n",
              "year                                int64\n",
              "gdp_growth                         object\n",
              "co2_emission_metrics_per_capita    object\n",
              "electricity_access                 object\n",
              "urban_population                   object\n",
              "population_growth                  object\n",
              "urban_population_growth_annual     object\n",
              "live_stock_production              object\n",
              "forest_area                        object\n",
              "renewable_energy_use               object\n",
              "energy_use_kg_of_oil_per_capita    object\n",
              "population_total                   object\n",
              "dtype: object"
            ]
          },
          "metadata": {},
          "execution_count": 317
        }
      ]
    },
    {
      "cell_type": "code",
      "source": [
        "strings = list(df.dtypes[df.dtypes == 'object'].index)\n",
        "strings = strings[1:len(strings)]\n",
        "strings"
      ],
      "metadata": {
        "colab": {
          "base_uri": "https://localhost:8080/"
        },
        "id": "ux_aVSSU2wxh",
        "outputId": "54a1ad7e-a4f9-40c3-c27b-bf00fd42d8e5"
      },
      "execution_count": null,
      "outputs": [
        {
          "output_type": "execute_result",
          "data": {
            "text/plain": [
              "['gdp_growth',\n",
              " 'co2_emission_metrics_per_capita',\n",
              " 'electricity_access',\n",
              " 'urban_population',\n",
              " 'population_growth',\n",
              " 'urban_population_growth_annual',\n",
              " 'live_stock_production',\n",
              " 'forest_area',\n",
              " 'renewable_energy_use',\n",
              " 'energy_use_kg_of_oil_per_capita',\n",
              " 'population_total']"
            ]
          },
          "metadata": {},
          "execution_count": 318
        }
      ]
    },
    {
      "cell_type": "code",
      "source": [
        "for i in strings:\n",
        "  df[i]=df[i].apply(lambda x:x.replace('..',''))\n",
        "  df[i]=df[i].apply(lambda x:x.replace(',',''))\n",
        "  df[i]=df[i].apply(pd.to_numeric)\n",
        "\n",
        "df['year']=df['year'].astype(object)"
      ],
      "metadata": {
        "id": "KhDuoQnx22b0"
      },
      "execution_count": null,
      "outputs": []
    },
    {
      "cell_type": "code",
      "source": [
        "df.dtypes"
      ],
      "metadata": {
        "colab": {
          "base_uri": "https://localhost:8080/"
        },
        "id": "XGvYrb_ySS9f",
        "outputId": "cc04080a-a53d-4caf-ffb5-a0917d86972d"
      },
      "execution_count": null,
      "outputs": [
        {
          "output_type": "execute_result",
          "data": {
            "text/plain": [
              "country                             object\n",
              "year                                object\n",
              "gdp_growth                         float64\n",
              "co2_emission_metrics_per_capita    float64\n",
              "electricity_access                 float64\n",
              "urban_population                   float64\n",
              "population_growth                  float64\n",
              "urban_population_growth_annual     float64\n",
              "live_stock_production              float64\n",
              "forest_area                        float64\n",
              "renewable_energy_use               float64\n",
              "energy_use_kg_of_oil_per_capita    float64\n",
              "population_total                   float64\n",
              "dtype: object"
            ]
          },
          "metadata": {},
          "execution_count": 320
        }
      ]
    },
    {
      "cell_type": "code",
      "source": [
        "import matplotlib.pyplot as plt\n",
        "import seaborn as sns\n",
        "\n",
        "%matplotlib inline"
      ],
      "metadata": {
        "id": "k_ATh4UhxpCR"
      },
      "execution_count": null,
      "outputs": []
    },
    {
      "cell_type": "code",
      "source": [
        "sns.histplot(df.co2_emission_metrics_per_capita, bins=30, kde=True)"
      ],
      "metadata": {
        "colab": {
          "base_uri": "https://localhost:8080/",
          "height": 297
        },
        "id": "hzIT89jsx4U1",
        "outputId": "70e5ea4c-67d0-4cea-b736-c181184a827d"
      },
      "execution_count": null,
      "outputs": [
        {
          "output_type": "execute_result",
          "data": {
            "text/plain": [
              "<matplotlib.axes._subplots.AxesSubplot at 0x7f28b0e07150>"
            ]
          },
          "metadata": {},
          "execution_count": 322
        },
        {
          "output_type": "display_data",
          "data": {
            "text/plain": [
              "<Figure size 432x288 with 1 Axes>"
            ],
            "image/png": "[encoded data removed]"
          },
          "metadata": {
            "needs_background": "light"
          }
        }
      ]
    },
    {
      "cell_type": "markdown",
      "source": [
        "The majority of countries have pretty low levels of CO2 emission per capita. It is a long-tail distribution, because bars on the left side are much bigger. Actually, here we can make an assumption that the majority of countries with high level of emissions are densely populated, plus more developed countries have lower level of emossions so this causes such lind of distribution. \n"
      ],
      "metadata": {
        "id": "8A5aiQ7Syg-r"
      }
    },
    {
      "cell_type": "code",
      "source": [
        "sns.histplot(df.co2_emission_metrics_per_capita[df.co2_emission_metrics_per_capita < 15], bins=30, kde=True)"
      ],
      "metadata": {
        "colab": {
          "base_uri": "https://localhost:8080/",
          "height": 297
        },
        "id": "CSXd-tvZA97w",
        "outputId": "9c9f76be-1e89-40b2-bafd-b7c7574fc195"
      },
      "execution_count": null,
      "outputs": [
        {
          "output_type": "execute_result",
          "data": {
            "text/plain": [
              "<matplotlib.axes._subplots.AxesSubplot at 0x7f28b4f65650>"
            ]
          },
          "metadata": {},
          "execution_count": 323
        },
        {
          "output_type": "display_data",
          "data": {
            "text/plain": [
              "<Figure size 432x288 with 1 Axes>"
            ],
            "image/png": "[encoded data removed]"
          },
          "metadata": {
            "needs_background": "light"
          }
        }
      ]
    },
    {
      "cell_type": "code",
      "source": [
        "emission_logs = np.log1p(df.co2_emission_metrics_per_capita)"
      ],
      "metadata": {
        "id": "jwGPyuht_P6U"
      },
      "execution_count": null,
      "outputs": []
    },
    {
      "cell_type": "code",
      "source": [
        "sns.histplot(emission_logs, bins=30, kde=True)"
      ],
      "metadata": {
        "colab": {
          "base_uri": "https://localhost:8080/",
          "height": 297
        },
        "id": "re592AQQBKAK",
        "outputId": "8d360597-32b1-446c-9505-e91e089d1a3a"
      },
      "execution_count": null,
      "outputs": [
        {
          "output_type": "execute_result",
          "data": {
            "text/plain": [
              "<matplotlib.axes._subplots.AxesSubplot at 0x7f28b0e0a6d0>"
            ]
          },
          "metadata": {},
          "execution_count": 325
        },
        {
          "output_type": "display_data",
          "data": {
            "text/plain": [
              "<Figure size 432x288 with 1 Axes>"
            ],
            "image/png": "[encoded data removed]"
          },
          "metadata": {
            "needs_background": "light"
          }
        }
      ]
    },
    {
      "cell_type": "code",
      "source": [
        "df.isnull().sum()"
      ],
      "metadata": {
        "colab": {
          "base_uri": "https://localhost:8080/"
        },
        "id": "cqGi_bvlBSVf",
        "outputId": "1a90e662-7643-4415-e78b-1f1ccf408793"
      },
      "execution_count": null,
      "outputs": [
        {
          "output_type": "execute_result",
          "data": {
            "text/plain": [
              "country                              0\n",
              "year                                 0\n",
              "gdp_growth                          98\n",
              "co2_emission_metrics_per_capita     93\n",
              "electricity_access                  38\n",
              "urban_population                    24\n",
              "population_growth                   10\n",
              "urban_population_growth_annual      24\n",
              "live_stock_production              116\n",
              "forest_area                         40\n",
              "renewable_energy_use                43\n",
              "energy_use_kg_of_oil_per_capita    575\n",
              "population_total                    10\n",
              "dtype: int64"
            ]
          },
          "metadata": {},
          "execution_count": 326
        }
      ]
    },
    {
      "cell_type": "code",
      "source": [
        "df = df.fillna(0)"
      ],
      "metadata": {
        "id": "V2KNky6eBRu8"
      },
      "execution_count": null,
      "outputs": []
    },
    {
      "cell_type": "code",
      "source": [
        "df.describe().astype(int)"
      ],
      "metadata": {
        "colab": {
          "base_uri": "https://localhost:8080/",
          "height": 364
        },
        "id": "wyUAH9O4F7N0",
        "outputId": "f86fbb27-56cc-4109-9308-1dcd7a8a7099"
      },
      "execution_count": null,
      "outputs": [
        {
          "output_type": "execute_result",
          "data": {
            "text/plain": [
              "       year  gdp_growth  co2_emission_metrics_per_capita  electricity_access  \\\n",
              "count  1848        1848                             1848                1848   \n",
              "mean   2011           3                                4                  78   \n",
              "std       2           5                                5                  30   \n",
              "min    2008         -62                                0                   0   \n",
              "25%    2009           0                                0                  61   \n",
              "50%    2011           3                                2                  97   \n",
              "75%    2013           5                                6                 100   \n",
              "max    2014         123                               45                 100   \n",
              "\n",
              "       urban_population  population_growth  urban_population_growth_annual  \\\n",
              "count              1848               1848                            1848   \n",
              "mean                 57                  1                               2   \n",
              "std                  23                  1                               1   \n",
              "min                   0                 -4                              -6   \n",
              "25%                  37                  0                               0   \n",
              "50%                  56                  1                               1   \n",
              "75%                  76                  2                               3   \n",
              "max                 100                 16                              16   \n",
              "\n",
              "       live_stock_production  forest_area  renewable_energy_use  \\\n",
              "count                   1848         1848                  1848   \n",
              "mean                      72           31                    28   \n",
              "std                       41           23                    28   \n",
              "min                        0            0                     0   \n",
              "25%                       66           11                     4   \n",
              "50%                       92           30                    17   \n",
              "75%                       98           46                    47   \n",
              "max                      258           98                    97   \n",
              "\n",
              "       energy_use_kg_of_oil_per_capita  population_total  \n",
              "count                             1848              1848  \n",
              "mean                              1700         280322207  \n",
              "std                               2608         890573416  \n",
              "min                                  0                 0  \n",
              "25%                                  0           1326253  \n",
              "50%                                717           9459452  \n",
              "75%                               2226          51266147  \n",
              "max                              18178        7254226881  "
            ],
            "text/html": [
              "\n",
              "  <div id=\"df-0cd07e57-e0a0-4e74-907c-1d6505aa1dd0\">\n",
              "    <div class=\"colab-df-container\">\n",
              "      <div>\n",
              "<style scoped>\n",
              "    .dataframe tbody tr th:only-of-type {\n",
              "        vertical-align: middle;\n",
              "    }\n",
              "\n",
              "    .dataframe tbody tr th {\n",
              "        vertical-align: top;\n",
              "    }\n",
              "\n",
              "    .dataframe thead th {\n",
              "        text-align: right;\n",
              "    }\n",
              "</style>\n",
              "<table border=\"1\" class=\"dataframe\">\n",
              "  <thead>\n",
              "    <tr style=\"text-align: right;\">\n",
              "      <th></th>\n",
              "      <th>year</th>\n",
              "      <th>gdp_growth</th>\n",
              "      <th>co2_emission_metrics_per_capita</th>\n",
              "      <th>electricity_access</th>\n",
              "      <th>urban_population</th>\n",
              "      <th>population_growth</th>\n",
              "      <th>urban_population_growth_annual</th>\n",
              "      <th>live_stock_production</th>\n",
              "      <th>forest_area</th>\n",
              "      <th>renewable_energy_use</th>\n",
              "      <th>energy_use_kg_of_oil_per_capita</th>\n",
              "      <th>population_total</th>\n",
              "    </tr>\n",
              "  </thead>\n",
              "  <tbody>\n",
              "    <tr>\n",
              "      <th>count</th>\n",
              "      <td>1848</td>\n",
              "      <td>1848</td>\n",
              "      <td>1848</td>\n",
              "      <td>1848</td>\n",
              "      <td>1848</td>\n",
              "      <td>1848</td>\n",
              "      <td>1848</td>\n",
              "      <td>1848</td>\n",
              "      <td>1848</td>\n",
              "      <td>1848</td>\n",
              "      <td>1848</td>\n",
              "      <td>1848</td>\n",
              "    </tr>\n",
              "    <tr>\n",
              "      <th>mean</th>\n",
              "      <td>2011</td>\n",
              "      <td>3</td>\n",
              "      <td>4</td>\n",
              "      <td>78</td>\n",
              "      <td>57</td>\n",
              "      <td>1</td>\n",
              "      <td>2</td>\n",
              "      <td>72</td>\n",
              "      <td>31</td>\n",
              "      <td>28</td>\n",
              "      <td>1700</td>\n",
              "      <td>280322207</td>\n",
              "    </tr>\n",
              "    <tr>\n",
              "      <th>std</th>\n",
              "      <td>2</td>\n",
              "      <td>5</td>\n",
              "      <td>5</td>\n",
              "      <td>30</td>\n",
              "      <td>23</td>\n",
              "      <td>1</td>\n",
              "      <td>1</td>\n",
              "      <td>41</td>\n",
              "      <td>23</td>\n",
              "      <td>28</td>\n",
              "      <td>2608</td>\n",
              "      <td>890573416</td>\n",
              "    </tr>\n",
              "    <tr>\n",
              "      <th>min</th>\n",
              "      <td>2008</td>\n",
              "      <td>-62</td>\n",
              "      <td>0</td>\n",
              "      <td>0</td>\n",
              "      <td>0</td>\n",
              "      <td>-4</td>\n",
              "      <td>-6</td>\n",
              "      <td>0</td>\n",
              "      <td>0</td>\n",
              "      <td>0</td>\n",
              "      <td>0</td>\n",
              "      <td>0</td>\n",
              "    </tr>\n",
              "    <tr>\n",
              "      <th>25%</th>\n",
              "      <td>2009</td>\n",
              "      <td>0</td>\n",
              "      <td>0</td>\n",
              "      <td>61</td>\n",
              "      <td>37</td>\n",
              "      <td>0</td>\n",
              "      <td>0</td>\n",
              "      <td>66</td>\n",
              "      <td>11</td>\n",
              "      <td>4</td>\n",
              "      <td>0</td>\n",
              "      <td>1326253</td>\n",
              "    </tr>\n",
              "    <tr>\n",
              "      <th>50%</th>\n",
              "      <td>2011</td>\n",
              "      <td>3</td>\n",
              "      <td>2</td>\n",
              "      <td>97</td>\n",
              "      <td>56</td>\n",
              "      <td>1</td>\n",
              "      <td>1</td>\n",
              "      <td>92</td>\n",
              "      <td>30</td>\n",
              "      <td>17</td>\n",
              "      <td>717</td>\n",
              "      <td>9459452</td>\n",
              "    </tr>\n",
              "    <tr>\n",
              "      <th>75%</th>\n",
              "      <td>2013</td>\n",
              "      <td>5</td>\n",
              "      <td>6</td>\n",
              "      <td>100</td>\n",
              "      <td>76</td>\n",
              "      <td>2</td>\n",
              "      <td>3</td>\n",
              "      <td>98</td>\n",
              "      <td>46</td>\n",
              "      <td>47</td>\n",
              "      <td>2226</td>\n",
              "      <td>51266147</td>\n",
              "    </tr>\n",
              "    <tr>\n",
              "      <th>max</th>\n",
              "      <td>2014</td>\n",
              "      <td>123</td>\n",
              "      <td>45</td>\n",
              "      <td>100</td>\n",
              "      <td>100</td>\n",
              "      <td>16</td>\n",
              "      <td>16</td>\n",
              "      <td>258</td>\n",
              "      <td>98</td>\n",
              "      <td>97</td>\n",
              "      <td>18178</td>\n",
              "      <td>7254226881</td>\n",
              "    </tr>\n",
              "  </tbody>\n",
              "</table>\n",
              "</div>\n",
              "      <button class=\"colab-df-convert\" onclick=\"convertToInteractive('df-0cd07e57-e0a0-4e74-907c-1d6505aa1dd0')\"\n",
              "              title=\"Convert this dataframe to an interactive table.\"\n",
              "              style=\"display:none;\">\n",
              "        \n",
              "  <svg xmlns=\"http://www.w3.org/2000/svg\" height=\"24px\"viewBox=\"0 0 24 24\"\n",
              "       width=\"24px\">\n",
              "    <path d=\"M0 0h24v24H0V0z\" fill=\"none\"/>\n",
              "    <path d=\"M18.56 5.44l.94 2.06.94-2.06 2.06-.94-2.06-.94-.94-2.06-.94 2.06-2.06.94zm-11 1L8.5 8.5l.94-2.06 2.06-.94-2.06-.94L8.5 2.5l-.94 2.06-2.06.94zm10 10l.94 2.06.94-2.06 2.06-.94-2.06-.94-.94-2.06-.94 2.06-2.06.94z\"/><path d=\"M17.41 7.96l-1.37-1.37c-.4-.4-.92-.59-1.43-.59-.52 0-1.04.2-1.43.59L10.3 9.45l-7.72 7.72c-.78.78-.78 2.05 0 2.83L4 21.41c.39.39.9.59 1.41.59.51 0 1.02-.2 1.41-.59l7.78-7.78 2.81-2.81c.8-.78.8-2.07 0-2.86zM5.41 20L4 18.59l7.72-7.72 1.47 1.35L5.41 20z\"/>\n",
              "  </svg>\n",
              "      </button>\n",
              "      \n",
              "  <style>\n",
              "    .colab-df-container {\n",
              "      display:flex;\n",
              "      flex-wrap:wrap;\n",
              "      gap: 12px;\n",
              "    }\n",
              "\n",
              "    .colab-df-convert {\n",
              "      background-color: #E8F0FE;\n",
              "      border: none;\n",
              "      border-radius: 50%;\n",
              "      cursor: pointer;\n",
              "      display: none;\n",
              "      fill: #1967D2;\n",
              "      height: 32px;\n",
              "      padding: 0 0 0 0;\n",
              "      width: 32px;\n",
              "    }\n",
              "\n",
              "    .colab-df-convert:hover {\n",
              "      background-color: #E2EBFA;\n",
              "      box-shadow: 0px 1px 2px rgba(60, 64, 67, 0.3), 0px 1px 3px 1px rgba(60, 64, 67, 0.15);\n",
              "      fill: #174EA6;\n",
              "    }\n",
              "\n",
              "    [theme=dark] .colab-df-convert {\n",
              "      background-color: #3B4455;\n",
              "      fill: #D2E3FC;\n",
              "    }\n",
              "\n",
              "    [theme=dark] .colab-df-convert:hover {\n",
              "      background-color: #434B5C;\n",
              "      box-shadow: 0px 1px 3px 1px rgba(0, 0, 0, 0.15);\n",
              "      filter: drop-shadow(0px 1px 2px rgba(0, 0, 0, 0.3));\n",
              "      fill: #FFFFFF;\n",
              "    }\n",
              "  </style>\n",
              "\n",
              "      <script>\n",
              "        const buttonEl =\n",
              "          document.querySelector('#df-0cd07e57-e0a0-4e74-907c-1d6505aa1dd0 button.colab-df-convert');\n",
              "        buttonEl.style.display =\n",
              "          google.colab.kernel.accessAllowed ? 'block' : 'none';\n",
              "\n",
              "        async function convertToInteractive(key) {\n",
              "          const element = document.querySelector('#df-0cd07e57-e0a0-4e74-907c-1d6505aa1dd0');\n",
              "          const dataTable =\n",
              "            await google.colab.kernel.invokeFunction('convertToInteractive',\n",
              "                                                     [key], {});\n",
              "          if (!dataTable) return;\n",
              "\n",
              "          const docLinkHtml = 'Like what you see? Visit the ' +\n",
              "            '<a target=\"_blank\" href=https://colab.research.google.com/notebooks/data_table.ipynb>data table notebook</a>'\n",
              "            + ' to learn more about interactive tables.';\n",
              "          element.innerHTML = '';\n",
              "          dataTable['output_type'] = 'display_data';\n",
              "          await google.colab.output.renderOutput(dataTable, element);\n",
              "          const docLink = document.createElement('div');\n",
              "          docLink.innerHTML = docLinkHtml;\n",
              "          element.appendChild(docLink);\n",
              "        }\n",
              "      </script>\n",
              "    </div>\n",
              "  </div>\n",
              "  "
            ]
          },
          "metadata": {},
          "execution_count": 328
        }
      ]
    },
    {
      "cell_type": "code",
      "source": [
        "corr = df.corr(method ='pearson')\n",
        "corr = corr[np.abs(corr)>0.01] # Clear out so small values\n",
        "\n",
        "mask = np.zeros_like(corr)\n",
        "mask[np.triu_indices_from(mask)] = True\n",
        "\n",
        "with sns.axes_style(\"whitegrid\"):\n",
        "    f, ax = plt.subplots(figsize=(11, 9))\n",
        "    ax = sns.heatmap(corr,annot=True, mask=mask, vmin=-1, vmax=1, square=True,linewidths=.5, cmap=\"plasma\")"
      ],
      "metadata": {
        "colab": {
          "base_uri": "https://localhost:8080/",
          "height": 698
        },
        "id": "8svJDbAZGlS-",
        "outputId": "4306caaa-9a3d-479a-9df7-43643f2a82de"
      },
      "execution_count": null,
      "outputs": [
        {
          "output_type": "display_data",
          "data": {
            "text/plain": [
              "<Figure size 792x648 with 2 Axes>"
            ],
            "image/png": "[encoded data removed]"
          },
          "metadata": {}
        }
      ]
    },
    {
      "cell_type": "markdown",
      "source": [
        "Correlation matrix shows that the most important indicators for predicting amount of emission are urban population growth, energy use of oil, renewable energy use and other. The majority of indicators have high correlation with emission of CO2."
      ],
      "metadata": {
        "id": "8GadGWQnnEv-"
      }
    },
    {
      "cell_type": "markdown",
      "source": [
        "##Regressions"
      ],
      "metadata": {
        "id": "deOwWdTo5beW"
      }
    },
    {
      "cell_type": "code",
      "source": [
        "from sklearn.model_selection import train_test_split\n",
        "from sklearn.preprocessing import OneHotEncoder"
      ],
      "metadata": {
        "id": "W7pRN5WaBmHH"
      },
      "execution_count": null,
      "outputs": []
    },
    {
      "cell_type": "code",
      "source": [
        "numerical = df[['gdp_growth', 'co2_emission_metrics_per_capita',\n",
        "       'electricity_access', 'urban_population', 'population_growth',\n",
        "       'urban_population_growth_annual', 'live_stock_production',\n",
        "       'forest_area', 'renewable_energy_use',\n",
        "       'energy_use_kg_of_oil_per_capita', 'population_total']]\n",
        "categorical = df[['country', 'year']]"
      ],
      "metadata": {
        "id": "HNHN8dXFcQGe"
      },
      "execution_count": null,
      "outputs": []
    },
    {
      "cell_type": "code",
      "source": [
        "ohe = OneHotEncoder()\n",
        "transformed = ohe.fit_transform(df[['country', 'year']])\n",
        "print(transformed.toarray())"
      ],
      "metadata": {
        "colab": {
          "base_uri": "https://localhost:8080/"
        },
        "id": "KY-MdRvFoYd5",
        "outputId": "46efb010-e80e-46d0-f6e5-8cce2e08229f"
      },
      "execution_count": null,
      "outputs": [
        {
          "output_type": "stream",
          "name": "stdout",
          "text": [
            "[[1. 0. 0. ... 0. 0. 0.]\n",
            " [0. 1. 0. ... 0. 0. 0.]\n",
            " [0. 0. 1. ... 0. 0. 0.]\n",
            " ...\n",
            " [0. 0. 0. ... 0. 0. 1.]\n",
            " [0. 0. 0. ... 0. 0. 1.]\n",
            " [0. 0. 0. ... 0. 0. 1.]]\n"
          ]
        }
      ]
    },
    {
      "cell_type": "code",
      "source": [
        "X = df[['country', 'year','gdp_growth',\n",
        "       'electricity_access', 'urban_population', 'population_growth',\n",
        "       'urban_population_growth_annual', 'live_stock_production',\n",
        "       'forest_area', 'renewable_energy_use',\n",
        "       'energy_use_kg_of_oil_per_capita', 'population_total']]\n",
        "       \n",
        "y = df['co2_emission_metrics_per_capita']"
      ],
      "metadata": {
        "id": "CQJgtH0mh2qm"
      },
      "execution_count": null,
      "outputs": []
    },
    {
      "cell_type": "code",
      "source": [
        "df.columns"
      ],
      "metadata": {
        "colab": {
          "base_uri": "https://localhost:8080/"
        },
        "id": "bb4tL_9tUEw3",
        "outputId": "06c16090-1b64-4aa5-c777-5daace998bd8"
      },
      "execution_count": null,
      "outputs": [
        {
          "output_type": "execute_result",
          "data": {
            "text/plain": [
              "Index(['country', 'year', 'gdp_growth', 'co2_emission_metrics_per_capita',\n",
              "       'electricity_access', 'urban_population', 'population_growth',\n",
              "       'urban_population_growth_annual', 'live_stock_production',\n",
              "       'forest_area', 'renewable_energy_use',\n",
              "       'energy_use_kg_of_oil_per_capita', 'population_total'],\n",
              "      dtype='object')"
            ]
          },
          "metadata": {},
          "execution_count": 334
        }
      ]
    },
    {
      "cell_type": "code",
      "source": [
        "enc = OneHotEncoder(handle_unknown='ignore')\n",
        "enc.fit(categorical)"
      ],
      "metadata": {
        "colab": {
          "base_uri": "https://localhost:8080/"
        },
        "id": "piHSEg05l-Xh",
        "outputId": "09fb71e7-161e-458d-b847-98d36f922d47"
      },
      "execution_count": null,
      "outputs": [
        {
          "output_type": "execute_result",
          "data": {
            "text/plain": [
              "OneHotEncoder(handle_unknown='ignore')"
            ]
          },
          "metadata": {},
          "execution_count": 335
        }
      ]
    },
    {
      "cell_type": "code",
      "source": [
        "df = numerical"
      ],
      "metadata": {
        "id": "ADMmbSFe3t13"
      },
      "execution_count": null,
      "outputs": []
    },
    {
      "cell_type": "code",
      "source": [
        "df_full_train, df_test = train_test_split(df, test_size=0.2, random_state=1)\n",
        "df_train, df_val = train_test_split(df_full_train, test_size=0.25, random_state=1)"
      ],
      "metadata": {
        "id": "jE7aSkcVBmDs"
      },
      "execution_count": null,
      "outputs": []
    },
    {
      "cell_type": "code",
      "source": [
        "len(df_train), len(df_val), len(df_test)"
      ],
      "metadata": {
        "colab": {
          "base_uri": "https://localhost:8080/"
        },
        "id": "XgQpytj3b40X",
        "outputId": "c2a9525a-3b4a-491e-eac3-90608dfb2c12"
      },
      "execution_count": null,
      "outputs": [
        {
          "output_type": "execute_result",
          "data": {
            "text/plain": [
              "(1108, 370, 370)"
            ]
          },
          "metadata": {},
          "execution_count": 338
        }
      ]
    },
    {
      "cell_type": "code",
      "source": [
        "y_train = df_train.co2_emission_metrics_per_capita.values\n",
        "y_val = df_val.co2_emission_metrics_per_capita.values\n",
        "y_test = df_test.co2_emission_metrics_per_capita.values\n",
        "\n",
        "del df_train['co2_emission_metrics_per_capita']\n",
        "del df_val['co2_emission_metrics_per_capita']\n",
        "del df_test['co2_emission_metrics_per_capita']"
      ],
      "metadata": {
        "id": "7LFdDYUGWBBb"
      },
      "execution_count": null,
      "outputs": []
    },
    {
      "cell_type": "code",
      "source": [
        "from sklearn.feature_extraction import DictVectorizer\n",
        "dv = DictVectorizer(sparse=False)\n",
        "\n",
        "X_train = df_train.reset_index(drop=True)\n",
        "X_train_dict = X_train.to_dict(orient='records')\n",
        "X_train = dv.fit_transform(X_train_dict)\n",
        "\n",
        "X_val = df_val.reset_index(drop=True)\n",
        "X_val_dict = X_val.to_dict(orient='records')\n",
        "X_val = dv.fit_transform(X_val_dict)\n",
        "\n",
        "X_test = df_test.reset_index(drop=True)\n",
        "X_test_dict = X_test.to_dict(orient='records')\n",
        "X_test = dv.fit_transform(X_test_dict)"
      ],
      "metadata": {
        "id": "BJPSfz-kE3Jw"
      },
      "execution_count": null,
      "outputs": []
    },
    {
      "cell_type": "markdown",
      "source": [
        "##Decision Tree"
      ],
      "metadata": {
        "id": "poCJHkMI5iII"
      }
    },
    {
      "cell_type": "code",
      "source": [
        "from sklearn.ensemble import RandomForestRegressor\n",
        "from sklearn.tree import DecisionTreeRegressor\n",
        "from sklearn.metrics import mean_squared_error as MSE\n",
        "from sklearn.metrics import r2_score\n",
        "from sklearn.tree import DecisionTreeClassifier\n",
        "from sklearn.metrics import roc_auc_score\n",
        "from sklearn.model_selection import GridSearchCV"
      ],
      "metadata": {
        "id": "as4PzeaH6vV0"
      },
      "execution_count": null,
      "outputs": []
    },
    {
      "cell_type": "code",
      "source": [
        "dt = DecisionTreeRegressor(max_depth = 2)\n",
        "dt.fit(X_train, y_train)\n",
        "\n",
        "y_pred = dt.predict(X_val)\n",
        "\n",
        "r2 = r2_score(y_val, y_pred)\n",
        "rmse= MSE(y_val,y_pred, squared=False)\n",
        "print(f\"r2 score: {r2.round(3)}   RMSE: {rmse.round(3)}\")"
      ],
      "metadata": {
        "colab": {
          "base_uri": "https://localhost:8080/"
        },
        "id": "1Nf1sYG--1bK",
        "outputId": "e20647b7-c845-4dd4-8b04-f040ca6cd321"
      },
      "execution_count": null,
      "outputs": [
        {
          "output_type": "stream",
          "name": "stdout",
          "text": [
            "r2 score: 0.656   RMSE: 3.383\n"
          ]
        }
      ]
    },
    {
      "cell_type": "code",
      "source": [
        "parameters = {'max_depth' : [2,5,10, 15],\n",
        "              'min_samples_leaf' : [1, 5, 10, 15]           \n",
        "              }\n",
        "dt_v2 = GridSearchCV(dt, parameters, cv=10, n_jobs=-1)\n",
        "\n",
        "dt_v2.fit(X_train, y_train)\n",
        "\n",
        "print('Best results with Parameters', dt_v2.best_params_)\n",
        "\n",
        "y_pred_ = dt_v2.best_estimator_.predict(X_val)\n",
        "\n",
        "r2 = r2_score(y_val, y_pred)\n",
        "rmse= MSE(y_val,y_pred, squared=False)\n",
        "print(f\"Best r2 score: {r2.round(3)}   RMSE: {rmse.round(3)}\")"
      ],
      "metadata": {
        "colab": {
          "base_uri": "https://localhost:8080/"
        },
        "id": "jMwnKhVCC7Wb",
        "outputId": "83f330a5-699f-4e3a-b892-94759375da75"
      },
      "execution_count": null,
      "outputs": [
        {
          "output_type": "stream",
          "name": "stdout",
          "text": [
            "Best results with Parameters {'max_depth': 15, 'min_samples_leaf': 1}\n",
            "Best r2 score: 0.656   RMSE: 3.383\n"
          ]
        }
      ]
    },
    {
      "cell_type": "markdown",
      "source": [
        "##Random Forest Regression"
      ],
      "metadata": {
        "id": "MVZCKNHB--i_"
      }
    },
    {
      "cell_type": "code",
      "source": [
        "rndforest = RandomForestRegressor(random_state=155)\n",
        "rndforest.fit(X_train, y_train)\n",
        "\n",
        "y_pred = rndforest.predict(X_val)\n",
        "\n",
        "r2 = r2_score(y_val, y_pred)\n",
        "rmse= MSE(y_val,y_pred, squared=False)\n",
        "print(f\"r2 score: {r2.round(3)}   RMSE: {rmse.round(3)}\")"
      ],
      "metadata": {
        "colab": {
          "base_uri": "https://localhost:8080/"
        },
        "id": "ZRv5IuIX-_yO",
        "outputId": "77c82244-46a8-4646-e67c-b6acade97211"
      },
      "execution_count": null,
      "outputs": [
        {
          "output_type": "stream",
          "name": "stdout",
          "text": [
            "r2 score: 0.937   RMSE: 1.448\n"
          ]
        }
      ]
    },
    {
      "cell_type": "code",
      "source": [
        "parameters = {'max_depth' : [2,5,10, 15],\n",
        "              'min_samples_leaf' : [0.5, 1, 5, 10]           \n",
        "              }\n",
        "\n",
        "rndforest_v2 = GridSearchCV(rndforest, parameters, cv=10, n_jobs=-1)\n",
        "\n",
        "\n",
        "rndforest_v2.fit(X_train, y_train)\n",
        "\n",
        "print('Best results with Parameters', rndforest_v2.best_params_)\n",
        "\n",
        "y_pred_ = rndforest_v2.best_estimator_.predict(X_val)\n",
        "\n",
        "r2 = r2_score(y_val, y_pred)\n",
        "rmse= MSE(y_val,y_pred, squared=False)\n",
        "print(f\"Best r2 score: {r2.round(3)}   RMSE: {rmse.round(3)}\")"
      ],
      "metadata": {
        "colab": {
          "base_uri": "https://localhost:8080/"
        },
        "id": "Gr-5t3HyDN-Z",
        "outputId": "378eeaaf-ee60-4135-f3fd-20a84b7cf171"
      },
      "execution_count": null,
      "outputs": [
        {
          "output_type": "stream",
          "name": "stdout",
          "text": [
            "Best results with Parameters {'max_depth': 15, 'min_samples_leaf': 1}\n",
            "Best r2 score: 0.937   RMSE: 1.448\n"
          ]
        }
      ]
    },
    {
      "cell_type": "markdown",
      "source": [
        "##Linear Regression"
      ],
      "metadata": {
        "id": "JeYmjGMX5Qyo"
      }
    },
    {
      "cell_type": "code",
      "source": [
        "from sklearn.linear_model import LinearRegression"
      ],
      "metadata": {
        "id": "_8HQ6hWY6yjL"
      },
      "execution_count": null,
      "outputs": []
    },
    {
      "cell_type": "code",
      "source": [
        "lin = LinearRegression()\n",
        "lin.fit(df_train, y_train)\n",
        "\n",
        "y_pred = lin.predict(df_val)\n",
        "\n",
        "r2 = r2_score(y_val, y_pred)\n",
        "rmse= MSE(y_val,y_pred, squared=False)\n",
        "print(f\"r2 score: {r2.round(3)}   RMSE: {rmse.round(3)}\")"
      ],
      "metadata": {
        "colab": {
          "base_uri": "https://localhost:8080/"
        },
        "id": "G1onF5DwYaxQ",
        "outputId": "7b8cdc99-5cdb-45d6-a634-c0d1f52a6d17"
      },
      "execution_count": null,
      "outputs": [
        {
          "output_type": "stream",
          "name": "stdout",
          "text": [
            "r2 score: 0.678   RMSE: 3.27\n"
          ]
        }
      ]
    },
    {
      "cell_type": "markdown",
      "source": [
        "##Logistic regression"
      ],
      "metadata": {
        "id": "wzsvGONk9JrP"
      }
    },
    {
      "cell_type": "code",
      "source": [
        "from sklearn.linear_model import LogisticRegression"
      ],
      "metadata": {
        "id": "GgDitnW-_ZfO"
      },
      "execution_count": null,
      "outputs": []
    },
    {
      "cell_type": "code",
      "source": [
        "from sklearn import preprocessing\n",
        "from sklearn import utils\n",
        "logr = LogisticRegression(penalty='l2')\n",
        "lab_enc = preprocessing.LabelEncoder()\n",
        "encoded = lab_enc.fit_transform(y_train)"
      ],
      "metadata": {
        "id": "XwfliLLRR_5a"
      },
      "execution_count": null,
      "outputs": []
    },
    {
      "cell_type": "code",
      "source": [
        "logr = LogisticRegression(penalty='l2')\n",
        "lab_enc = preprocessing.LabelEncoder()\n",
        "encoded = lab_enc.fit_transform(y_train)\n",
        "logr.fit(df_train, encoded)\n",
        "y_pred = logr.predict(df_val)\n",
        "\n",
        "r2 = r2_score(y_val, y_pred)\n",
        "rmse= MSE(y_val,y_pred, squared=False)\n",
        "print(f\"r2 score: {r2.round(3)}   RMSE: {rmse.round(3)}\")\n"
      ],
      "metadata": {
        "colab": {
          "base_uri": "https://localhost:8080/"
        },
        "id": "CtOlzVm49M9f",
        "outputId": "3acf0503-09c6-4830-cbf4-2e00ad5bec00"
      },
      "execution_count": null,
      "outputs": [
        {
          "output_type": "stream",
          "name": "stdout",
          "text": [
            "r2 score: -27.95   RMSE: 31.025\n"
          ]
        },
        {
          "output_type": "stream",
          "name": "stderr",
          "text": [
            "/usr/local/lib/python3.7/dist-packages/sklearn/linear_model/_logistic.py:818: ConvergenceWarning: lbfgs failed to converge (status=1):\n",
            "STOP: TOTAL NO. of ITERATIONS REACHED LIMIT.\n",
            "\n",
            "Increase the number of iterations (max_iter) or scale the data as shown in:\n",
            "    https://scikit-learn.org/stable/modules/preprocessing.html\n",
            "Please also refer to the documentation for alternative solver options:\n",
            "    https://scikit-learn.org/stable/modules/linear_model.html#logistic-regression\n",
            "  extra_warning_msg=_LOGISTIC_SOLVER_CONVERGENCE_MSG,\n"
          ]
        }
      ]
    },
    {
      "cell_type": "markdown",
      "source": [
        "##Laso, Ridge regression"
      ],
      "metadata": {
        "id": "7c8-67qG9sNx"
      }
    },
    {
      "cell_type": "code",
      "source": [
        "from sklearn.linear_model import Ridge, Lasso\n",
        "from sklearn.model_selection import GridSearchCV"
      ],
      "metadata": {
        "id": "5VWNEe_c90y6"
      },
      "execution_count": null,
      "outputs": []
    },
    {
      "cell_type": "code",
      "source": [
        "las = Lasso()\n",
        "las.fit(X_train, y_train)\n",
        "\n",
        "y_pred = las.predict(X_val)\n",
        "\n",
        "r2 = r2_score(y_val, y_pred)\n",
        "rmse= MSE(y_val,y_pred, squared=False)\n",
        "print(f\"r2 score: {r2.round(3)}   RMSE: {rmse.round(3)}\")"
      ],
      "metadata": {
        "colab": {
          "base_uri": "https://localhost:8080/"
        },
        "id": "dil3ORbR9uvT",
        "outputId": "cf1484b8-56b8-4192-c3d2-e689b980957b"
      },
      "execution_count": null,
      "outputs": [
        {
          "output_type": "stream",
          "name": "stdout",
          "text": [
            "r2 score: 0.651   RMSE: 3.405\n"
          ]
        }
      ]
    },
    {
      "cell_type": "code",
      "source": [
        "las_parameters = {'max_iter': [2500, 5000, 10000],\n",
        "                'alpha': [0.5, 1, 1.5]                \n",
        "                }\n",
        "\n",
        "las_v2 = GridSearchCV(las, las_parameters, cv=10, n_jobs=-1)\n",
        "\n",
        "\n",
        "las_v2.fit(X_train, y_train)\n",
        "\n",
        "print('Best results with Parameters', las_v2.best_params_)\n",
        "\n",
        "y_pred_ = las_v2.best_estimator_.predict(X_val)\n",
        "\n",
        "r2 = r2_score(y_val, y_pred)\n",
        "rmse= MSE(y_val,y_pred, squared=False)\n",
        "print(f\"Best r2 score: {r2.round(3)}   RMSE: {rmse.round(3)}\")"
      ],
      "metadata": {
        "colab": {
          "base_uri": "https://localhost:8080/"
        },
        "id": "feEcY8htCoqG",
        "outputId": "eda0a0b1-b311-44de-98f9-4be717924c1d"
      },
      "execution_count": null,
      "outputs": [
        {
          "output_type": "stream",
          "name": "stdout",
          "text": [
            "Best results with Parameters {'alpha': 0.5, 'max_iter': 2500}\n",
            "Best r2 score: 0.651   RMSE: 3.405\n"
          ]
        }
      ]
    },
    {
      "cell_type": "code",
      "source": [
        "rid = Ridge()\n",
        "rid.fit(X_train, y_train)\n",
        "\n",
        "y_pred = rid.predict(X_val)\n",
        "\n",
        "r2 = r2_score(y_val, y_pred)\n",
        "rmse= MSE(y_val,y_pred, squared=False)\n",
        "print(f\"r2 score: {r2.round(3)}   RMSE: {rmse.round(3)}\")"
      ],
      "metadata": {
        "colab": {
          "base_uri": "https://localhost:8080/"
        },
        "id": "2B2cLJjW929o",
        "outputId": "c23f8b36-4b4e-4773-e612-d903f2478c0f"
      },
      "execution_count": null,
      "outputs": [
        {
          "output_type": "stream",
          "name": "stdout",
          "text": [
            "r2 score: 0.678   RMSE: 3.27\n"
          ]
        },
        {
          "output_type": "stream",
          "name": "stderr",
          "text": [
            "/usr/local/lib/python3.7/dist-packages/sklearn/linear_model/_ridge.py:157: LinAlgWarning: Ill-conditioned matrix (rcond=2.34862e-19): result may not be accurate.\n",
            "  return linalg.solve(A, Xy, sym_pos=True, overwrite_a=True).T\n"
          ]
        }
      ]
    },
    {
      "cell_type": "code",
      "source": [
        "rid_parameters = {'max_iter': [1000, 25000, 5000],\n",
        "                'alpha': [1, 1.5, 2]\n",
        "                }\n",
        "\n",
        "rid_v2 = GridSearchCV(rid, rid_parameters, cv=10, n_jobs=-1)\n",
        "\n",
        "\n",
        "rid_v2.fit(X_train, y_train)\n",
        "\n",
        "print('Best results with Parameters',rid_v2.best_params_)\n",
        "\n",
        "y_pred_ = rid_v2.best_estimator_.predict(X_val)\n",
        "\n",
        "r2 = r2_score(y_val, y_pred)\n",
        "rmse= MSE(y_val,y_pred, squared=False)\n",
        "print(f\"Best r2 score: {r2.round(3)}   RMSE: {rmse.round(3)}\")"
      ],
      "metadata": {
        "colab": {
          "base_uri": "https://localhost:8080/"
        },
        "id": "3bnwOddSCUfr",
        "outputId": "0c8de960-ed7c-4df5-dd44-2847a8820316"
      },
      "execution_count": null,
      "outputs": [
        {
          "output_type": "stream",
          "name": "stdout",
          "text": [
            "Best results with Parameters {'alpha': 2, 'max_iter': 1000}\n",
            "Best r2 score: 0.678   RMSE: 3.27\n"
          ]
        },
        {
          "output_type": "stream",
          "name": "stderr",
          "text": [
            "/usr/local/lib/python3.7/dist-packages/sklearn/linear_model/_ridge.py:157: LinAlgWarning: Ill-conditioned matrix (rcond=2.35896e-19): result may not be accurate.\n",
            "  return linalg.solve(A, Xy, sym_pos=True, overwrite_a=True).T\n"
          ]
        }
      ]
    },
    {
      "cell_type": "markdown",
      "source": [
        "##XGB regression"
      ],
      "metadata": {
        "id": "x47uISwluPz7"
      }
    },
    {
      "cell_type": "code",
      "source": [
        "import xgboost as xg"
      ],
      "metadata": {
        "id": "_2K8sFCfujqd"
      },
      "execution_count": null,
      "outputs": []
    },
    {
      "cell_type": "code",
      "source": [
        "xgb_r = xg.XGBRegressor(n_estimators = 10, seed = 100)\n",
        " \n",
        "xgb_r.fit(X_train, y_train)\n",
        " \n",
        "pred = xgb_r.predict(X_test)\n",
        " \n",
        "r2 = r2_score(y_val, y_pred)\n",
        "rmse= MSE(y_val,y_pred, squared=False)\n",
        "print(f\"r2 score: {r2.round(3)}   RMSE: {rmse.round(3)}\")"
      ],
      "metadata": {
        "colab": {
          "base_uri": "https://localhost:8080/"
        },
        "id": "sqUAX79dt6GE",
        "outputId": "f89d1f26-baa6-4f8d-ca0d-802d0c41e5e6"
      },
      "execution_count": null,
      "outputs": [
        {
          "output_type": "stream",
          "name": "stdout",
          "text": [
            "[16:08:23] WARNING: /workspace/src/objective/regression_obj.cu:152: reg:linear is now deprecated in favor of reg:squarederror.\n",
            "r2 score: 0.678   RMSE: 3.27\n"
          ]
        }
      ]
    },
    {
      "cell_type": "code",
      "source": [
        "xgb_r_parameters = {'n_estimators': [100, 200],\n",
        "                'seed': [25, 50, 100, 150],\n",
        "                'learning_rate': [0.01, 0.1, 0.5]               \n",
        "                }\n",
        "\n",
        "xgb_r_v2 = GridSearchCV(xgb_r, xgb_r_parameters, cv=10, n_jobs=-1)\n",
        "\n",
        "\n",
        "xgb_r_v2.fit(X_train, y_train)\n",
        "\n",
        "print('Best results with Parameters', xgb_r_v2.best_params_)\n",
        "\n",
        "y_pred = xgb_r_v2.best_estimator_.predict(X_val)\n",
        "\n",
        "r2 = r2_score(y_val, y_pred)\n",
        "rmse= MSE(y_val,y_pred, squared=False)\n",
        "print(f\"Best r2 score: {r2.round(3)}   RMSE: {rmse.round(3)}\")"
      ],
      "metadata": {
        "colab": {
          "base_uri": "https://localhost:8080/"
        },
        "id": "-oPqPGVmvFmE",
        "outputId": "5cbd20d1-6523-4a9c-d81d-be5bf83c5c7a"
      },
      "execution_count": null,
      "outputs": [
        {
          "output_type": "stream",
          "name": "stdout",
          "text": [
            "[16:08:48] WARNING: /workspace/src/objective/regression_obj.cu:152: reg:linear is now deprecated in favor of reg:squarederror.\n",
            "Best results with Parameters {'learning_rate': 0.5, 'n_estimators': 200, 'seed': 25}\n",
            "Best r2 score: 0.934   RMSE: 1.486\n"
          ]
        }
      ]
    },
    {
      "cell_type": "markdown",
      "source": [
        "##Selecting the final model\n",
        "We gor the best R2_score and RMSE with XGBRegressor and Random Forest Regressor so it is the modelt that is the pest at predicting CO2 emission per capita.\n",
        "\n"
      ],
      "metadata": {
        "id": "nQqFS4Mn69e-"
      }
    },
    {
      "cell_type": "code",
      "source": [
        "y_full_train = df_full_train['co2_emission_metrics_per_capita'].astype(int)\n",
        "del df_full_train['co2_emission_metrics_per_capita']"
      ],
      "metadata": {
        "id": "GH_CQeGr8vtE"
      },
      "execution_count": null,
      "outputs": []
    },
    {
      "cell_type": "code",
      "source": [
        "dicts_full_train = df_full_train.to_dict(orient='records')\n",
        "\n",
        "dv = DictVectorizer(sparse=False)\n",
        "X_full_train = dv.fit_transform(dicts_full_train)\n",
        "\n",
        "dicts_test = df_test.to_dict(orient='records')\n",
        "X_test = dv.transform(dicts_test)"
      ],
      "metadata": {
        "id": "5NzQGdUA9f2g"
      },
      "execution_count": null,
      "outputs": []
    },
    {
      "cell_type": "code",
      "source": [
        "from xgboost import XGBClassifier\n",
        "from xgboost.sklearn import XGBClassifier"
      ],
      "metadata": {
        "id": "eXf3_ktwAzT0"
      },
      "execution_count": null,
      "outputs": []
    },
    {
      "cell_type": "code",
      "source": [
        "dfulltrain = xgb.DMatrix(X_full_train, label=y_full_train,\n",
        "                    feature_names=dv.get_feature_names())\n",
        "\n",
        "dtest = xgb.DMatrix(X_test, feature_names=dv.get_feature_names())"
      ],
      "metadata": {
        "colab": {
          "base_uri": "https://localhost:8080/"
        },
        "id": "jEd5lxy39h3X",
        "outputId": "9ba702c9-31b6-454e-dd48-3c1a87ed768f"
      },
      "execution_count": null,
      "outputs": [
        {
          "output_type": "stream",
          "name": "stderr",
          "text": [
            "/usr/local/lib/python3.7/dist-packages/sklearn/utils/deprecation.py:87: FutureWarning: Function get_feature_names is deprecated; get_feature_names is deprecated in 1.0 and will be removed in 1.2. Please use get_feature_names_out instead.\n",
            "  warnings.warn(msg, category=FutureWarning)\n"
          ]
        }
      ]
    },
    {
      "cell_type": "code",
      "source": [
        "rndforest = RandomForestRegressor(random_state=155, max_depth=15, min_samples_leaf=1)\n",
        "rndforest.fit(X_train, y_train)\n",
        "y_pred = rndforest.predict(X_test)\n",
        "\n",
        "r2 = r2_score(y_test, y_pred)\n",
        "rmse= MSE(y_test,pred, squared=False)\n",
        "print(f\"r2 score: {r2.round(3)}   RMSE: {rmse.round(3)}\")"
      ],
      "metadata": {
        "colab": {
          "base_uri": "https://localhost:8080/"
        },
        "id": "L_EfVkvu_FWb",
        "outputId": "5e46bc1a-f0ee-46d1-9012-fdf81de7343f"
      },
      "execution_count": null,
      "outputs": [
        {
          "output_type": "stream",
          "name": "stdout",
          "text": [
            "r2 score: 0.895   RMSE: 3.701\n"
          ]
        }
      ]
    },
    {
      "cell_type": "code",
      "source": [
        "xgb_r = xg.XGBRegressor(learning_rate = 0.5, n_estimators = 200, seed = 25)\n",
        " \n",
        "xgb_r.fit(X_train, y_train)\n",
        " \n",
        "pred = xgb_r.predict(X_test)\n",
        " \n",
        "r2 = r2_score(y_test, y_pred)\n",
        "rmse= MSE(y_test, pred, squared=False)\n",
        "print(f\"r2 score: {r2.round(3)}   RMSE: {rmse.round(3)}\")"
      ],
      "metadata": {
        "id": "eAze6YtTA0FD",
        "colab": {
          "base_uri": "https://localhost:8080/"
        },
        "outputId": "03cc09e7-189f-4e13-bcc1-4facf755eb61"
      },
      "execution_count": null,
      "outputs": [
        {
          "output_type": "stream",
          "name": "stdout",
          "text": [
            "[16:08:49] WARNING: /workspace/src/objective/regression_obj.cu:152: reg:linear is now deprecated in favor of reg:squarederror.\n",
            "r2 score: 0.895   RMSE: 1.788\n"
          ]
        }
      ]
    }
  ]
}