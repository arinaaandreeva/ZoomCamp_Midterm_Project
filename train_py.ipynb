{
 "cells": [
  {
   "cell_type": "code",
   "execution_count": 1,
   "metadata": {
    "id": "Ip4B8TQdhYOg"
   },
   "outputs": [],
   "source": [
    "import pandas as pd\n",
    "import numpy as np"
   ]
  },
  {
   "cell_type": "code",
   "execution_count": 2,
   "metadata": {
    "colab": {
     "base_uri": "https://localhost:8080/"
    },
    "id": "cBAD2ttHjMg0",
    "outputId": "39ff58bc-ad22-493c-e4be-617d7216ae7a"
   },
   "outputs": [
    {
     "name": "stdout",
     "output_type": "stream",
     "text": [
      "(1584, 13) (264, 13) (1848, 13)\n"
     ]
    }
   ],
   "source": [
    "df1 = pd.read_csv('https://raw.githubusercontent.com/arinaaandreeva/Datasets/main/CO2_emission_2008_13.csv')\n",
    "df2 = pd.read_csv('https://raw.githubusercontent.com/arinaaandreeva/Datasets/main/CO2_emission_2014.csv')\n",
    "df = pd.concat([df1, df2], axis=0)\n",
    "print(df1.shape, df2.shape, df.shape)"
   ]
  },
  {
   "cell_type": "code",
   "execution_count": 3,
   "metadata": {
    "id": "Hc_zxUSrkiPD"
   },
   "outputs": [],
   "source": [
    "df.columns = df.columns.str.lower().str.replace(' ', '_')"
   ]
  },
  {
   "cell_type": "code",
   "execution_count": 4,
   "metadata": {
    "colab": {
     "base_uri": "https://localhost:8080/"
    },
    "id": "ux_aVSSU2wxh",
    "outputId": "049804a3-ba9a-4013-beb3-9c63d946855a"
   },
   "outputs": [
    {
     "data": {
      "text/plain": [
       "['gdp_growth',\n",
       " 'co2_emission_metrics_per_capita',\n",
       " 'electricity_access',\n",
       " 'urban_population',\n",
       " 'population_growth',\n",
       " 'urban_population_growth_annual',\n",
       " 'live_stock_production',\n",
       " 'forest_area',\n",
       " 'renewable_energy_use',\n",
       " 'energy_use_kg_of_oil_per_capita',\n",
       " 'population_total']"
      ]
     },
     "execution_count": 4,
     "metadata": {},
     "output_type": "execute_result"
    }
   ],
   "source": [
    "strings = list(df.dtypes[df.dtypes == 'object'].index)\n",
    "strings = strings[1:len(strings)]\n",
    "strings"
   ]
  },
  {
   "cell_type": "code",
   "execution_count": 5,
   "metadata": {
    "id": "KhDuoQnx22b0"
   },
   "outputs": [],
   "source": [
    "for i in strings:\n",
    "  df[i]=df[i].apply(lambda x:x.replace('..',''))\n",
    "  df[i]=df[i].apply(lambda x:x.replace(',',''))\n",
    "  df[i]=df[i].apply(pd.to_numeric)\n",
    "\n",
    "df['year']=df['year'].astype(object)"
   ]
  },
  {
   "cell_type": "code",
   "execution_count": 6,
   "metadata": {
    "id": "V2KNky6eBRu8"
   },
   "outputs": [],
   "source": [
    "df = df.fillna(0)"
   ]
  },
  {
   "cell_type": "code",
   "execution_count": 7,
   "metadata": {
    "id": "cbFeknyvr-tX"
   },
   "outputs": [],
   "source": [
    "from sklearn.model_selection import train_test_split\n",
    "from sklearn.preprocessing import OneHotEncoder\n",
    "from sklearn.metrics import mean_squared_error as MSE\n",
    "from sklearn.metrics import r2_score"
   ]
  },
  {
   "cell_type": "code",
   "execution_count": 8,
   "metadata": {
    "colab": {
     "base_uri": "https://localhost:8080/"
    },
    "id": "cLi0Z7B-sA83",
    "outputId": "95b0319d-c69d-4d11-e0f3-f9f1185c7f93"
   },
   "outputs": [
    {
     "name": "stdout",
     "output_type": "stream",
     "text": [
      "[[1. 0. 0. ... 0. 0. 0.]\n",
      " [0. 1. 0. ... 0. 0. 0.]\n",
      " [0. 0. 1. ... 0. 0. 0.]\n",
      " ...\n",
      " [0. 0. 0. ... 0. 0. 1.]\n",
      " [0. 0. 0. ... 0. 0. 1.]\n",
      " [0. 0. 0. ... 0. 0. 1.]]\n"
     ]
    }
   ],
   "source": [
    "ohe = OneHotEncoder()\n",
    "transformed = ohe.fit_transform(df[['country', 'year']])\n",
    "print(transformed.toarray())"
   ]
  },
  {
   "cell_type": "code",
   "execution_count": 9,
   "metadata": {
    "id": "IdpaW8UhsEfl"
   },
   "outputs": [],
   "source": [
    "df_full_train, df_test = train_test_split(df, test_size=0.2, random_state=1)\n",
    "df_train, df_val = train_test_split(df_full_train, test_size=0.25, random_state=1)"
   ]
  },
  {
   "cell_type": "code",
   "execution_count": 10,
   "metadata": {
    "id": "AhXg8iC9sJ15"
   },
   "outputs": [],
   "source": [
    "y_train = df_train.co2_emission_metrics_per_capita.values\n",
    "y_val = df_val.co2_emission_metrics_per_capita.values\n",
    "y_test = df_test.co2_emission_metrics_per_capita.values\n",
    "\n",
    "del df_train['co2_emission_metrics_per_capita']\n",
    "del df_val['co2_emission_metrics_per_capita']\n",
    "del df_test['co2_emission_metrics_per_capita']"
   ]
  },
  {
   "cell_type": "code",
   "execution_count": 11,
   "metadata": {
    "id": "grwSxOKjsMG8"
   },
   "outputs": [],
   "source": [
    "from sklearn.feature_extraction import DictVectorizer\n",
    "dv = DictVectorizer(sparse=False)\n",
    "\n",
    "X_train = df_train.reset_index(drop=True)\n",
    "X_train_dict = X_train.to_dict(orient='records')\n",
    "X_train = dv.fit_transform(X_train_dict)\n",
    "\n",
    "X_val = df_val.reset_index(drop=True)\n",
    "X_val_dict = X_val.to_dict(orient='records')\n",
    "X_val = dv.fit_transform(X_val_dict)\n",
    "\n",
    "X_test = df_test.reset_index(drop=True)\n",
    "X_test_dict = X_test.to_dict(orient='records')\n",
    "X_test = dv.fit_transform(X_test_dict)"
   ]
  },
  {
   "cell_type": "code",
   "execution_count": 12,
   "metadata": {
    "id": "GH_CQeGr8vtE"
   },
   "outputs": [],
   "source": [
    "y_full_train = df_full_train['co2_emission_metrics_per_capita'].astype(int)\n",
    "del df_full_train['co2_emission_metrics_per_capita']"
   ]
  },
  {
   "cell_type": "code",
   "execution_count": 13,
   "metadata": {
    "id": "5NzQGdUA9f2g"
   },
   "outputs": [],
   "source": [
    "dicts_full_train = df_full_train.to_dict(orient='records')\n",
    "\n",
    "dv = DictVectorizer(sparse=False)\n",
    "X_full_train = dv.fit_transform(dicts_full_train)\n",
    "\n",
    "dicts_test = df_test.to_dict(orient='records')\n",
    "X_test = dv.transform(dicts_test)"
   ]
  },
  {
   "cell_type": "code",
   "execution_count": 14,
   "metadata": {
    "id": "eXf3_ktwAzT0"
   },
   "outputs": [],
   "source": [
    "import xgboost as xgb\n",
    "from xgboost import XGBClassifier\n",
    "from xgboost.sklearn import XGBClassifier"
   ]
  },
  {
   "cell_type": "code",
   "execution_count": 15,
   "metadata": {
    "colab": {
     "base_uri": "https://localhost:8080/"
    },
    "id": "jEd5lxy39h3X",
    "outputId": "15e3a8f2-7618-4bc3-bbde-d14d8b4375eb"
   },
   "outputs": [
    {
     "name": "stderr",
     "output_type": "stream",
     "text": [
      "C:\\Users\\user\\anaconda3\\lib\\site-packages\\sklearn\\utils\\deprecation.py:87: FutureWarning: Function get_feature_names is deprecated; get_feature_names is deprecated in 1.0 and will be removed in 1.2. Please use get_feature_names_out instead.\n",
      "  warnings.warn(msg, category=FutureWarning)\n"
     ]
    }
   ],
   "source": [
    "dfulltrain = xgb.DMatrix(X_full_train, label=y_full_train,\n",
    "                    feature_names=dv.get_feature_names())\n",
    "\n",
    "dtest = xgb.DMatrix(X_test, feature_names=dv.get_feature_names())"
   ]
  },
  {
   "cell_type": "code",
   "execution_count": 16,
   "metadata": {
    "colab": {
     "base_uri": "https://localhost:8080/"
    },
    "id": "eAze6YtTA0FD",
    "outputId": "59d30336-117e-4f71-f45b-dcf671362170"
   },
   "outputs": [
    {
     "name": "stdout",
     "output_type": "stream",
     "text": [
      "r2 score: 0.954   RMSE: 1.191\n"
     ]
    }
   ],
   "source": [
    "model = xgb.XGBRegressor(learning_rate = 0.5, n_estimators = 200, seed = 25)\n",
    " \n",
    "model.fit(X_train, y_train)\n",
    " \n",
    "pred = model.predict(X_test)\n",
    " \n",
    "r2 = r2_score(y_test, pred)\n",
    "rmse= MSE(y_test, pred, squared=False)\n",
    "print(f\"r2 score: {r2.round(3)}   RMSE: {rmse.round(3)}\")"
   ]
  },
  {
   "cell_type": "code",
   "execution_count": 17,
   "metadata": {},
   "outputs": [],
   "source": [
    "import bentoml"
   ]
  },
  {
   "cell_type": "code",
   "execution_count": 18,
   "metadata": {},
   "outputs": [
    {
     "data": {
      "text/plain": [
       "Model(tag=\"co2_emission_model:wamnhsdakk7owehh\", path=\"C:\\Users\\user\\bentoml\\models\\co2_emission_model\\wamnhsdakk7owehh\\\")"
      ]
     },
     "execution_count": 18,
     "metadata": {},
     "output_type": "execute_result"
    }
   ],
   "source": [
    "bentoml.xgboost.save_model('co2_emission_model', model)"
   ]
  },
  {
   "cell_type": "code",
   "execution_count": 19,
   "metadata": {},
   "outputs": [
    {
     "name": "stdout",
     "output_type": "stream",
     "text": [
      "Overwriting service.py\n"
     ]
    }
   ],
   "source": [
    "%%writefile service.py\n",
    "import bentoml\n",
    "from bentoml.io import JSON\n",
    "\n",
    "model_ref = bentoml.xgboost.get('co2_emission_model:latest')\n",
    "\n",
    "#dv = model_ref.custom_objects['DictVectorizer']\n",
    "# Create the model runner (it can also scale the model separately)\n",
    "model_runner = model_ref.to_runner()\n",
    "\n",
    "# Create the service 'credit_risk_classifier' and pass the model\n",
    "svc = bentoml.Service('co2_emission_classifier', runners=[model_runner])\n",
    "\n",
    "\n",
    "# Define an endpoint on the BentoML service\n",
    "@svc.api(input=JSON(), output=JSON()) # decorate endpoint as in json format for input and output\n",
    "def classify(application_data):\n",
    "    # transform data from client using dictvectorizer\n",
    "    vector = dv.transform(application_data)\n",
    "    # make predictions using 'runner.predict.run(input)' instead of 'model.predict'\n",
    "    prediction = model_runner.predict.run(vector)\n",
    "    \n",
    "    result = prediction[0] # extract prediction from 1D array\n",
    "    print('Prediction:', result)\n",
    "\n",
    "    if result > 0.5:\n",
    "        return {'Status': 'DECLINED'}\n",
    "    elif result > 0.3:\n",
    "        return {'Status': 'MAYBE'}\n",
    "    else:\n",
    "        return {'Status': 'APPROVED'}"
   ]
  },
  {
   "cell_type": "code",
   "execution_count": 20,
   "metadata": {},
   "outputs": [
    {
     "name": "stdout",
     "output_type": "stream",
     "text": [
      "^C\n"
     ]
    }
   ],
   "source": [
    "!bentoml serve service.py:svc --reload"
   ]
  },
  {
   "cell_type": "code",
   "execution_count": null,
   "metadata": {},
   "outputs": [],
   "source": [
    "!bentoml models get co2_emission_model:ghqcetk57oojsehh"
   ]
  },
  {
   "cell_type": "code",
   "execution_count": 31,
   "metadata": {},
   "outputs": [
    {
     "name": "stderr",
     "output_type": "stream",
     "text": [
      "UsageError: Cell magic `%%vim` not found.\n"
     ]
    }
   ],
   "source": [
    "%%vim bentofile.yaml\n",
    "service: \"service.py:svc\" # Specify entrypoint and service name\n",
    "labels:  \n",
    "  owner: arina andreeva\n",
    "  project: gallery\n",
    "include:\n",
    "- \"*.py\" # A pattern for matching which files to include in the bento build\n",
    "python:\n",
    "  packages: # Additional pip packages required by the service\n",
    "    - xgboost\n",
    "    - sklearn"
   ]
  },
  {
   "cell_type": "code",
   "execution_count": 28,
   "metadata": {},
   "outputs": [
    {
     "name": "stderr",
     "output_type": "stream",
     "text": [
      "UsageError: Cell magic `%%vim` not found.\n"
     ]
    }
   ],
   "source": []
  },
  {
   "cell_type": "code",
   "execution_count": null,
   "metadata": {},
   "outputs": [],
   "source": [
    "!bentoml build"
   ]
  },
  {
   "cell_type": "code",
   "execution_count": null,
   "metadata": {},
   "outputs": [],
   "source": [
    "#Successfully built Bento(tag=\"co2_emission_model:ghqcetk57oojsehh\")"
   ]
  },
  {
   "cell_type": "code",
   "execution_count": null,
   "metadata": {},
   "outputs": [],
   "source": [
    "!bentoml containerize co2_emission_model:latest"
   ]
  },
  {
   "cell_type": "code",
   "execution_count": null,
   "metadata": {},
   "outputs": [],
   "source": [
    "docker run -p 3000:3000 iris_classifier:invwzzsw7li6zckb2ie5eubhd "
   ]
  },
  {
   "cell_type": "code",
   "execution_count": null,
   "metadata": {},
   "outputs": [],
   "source": []
  }
 ],
 "metadata": {
  "colab": {
   "provenance": []
  },
  "kernelspec": {
   "display_name": "Python 3 (ipykernel)",
   "language": "python",
   "name": "python3"
  },
  "language_info": {
   "codemirror_mode": {
    "name": "ipython",
    "version": 3
   },
   "file_extension": ".py",
   "mimetype": "text/x-python",
   "name": "python",
   "nbconvert_exporter": "python",
   "pygments_lexer": "ipython3",
   "version": "3.9.7"
  }
 },
 "nbformat": 4,
 "nbformat_minor": 1
}
